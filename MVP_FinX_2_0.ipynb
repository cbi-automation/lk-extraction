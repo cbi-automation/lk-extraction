{
  "cells": [
    {
      "cell_type": "markdown",
      "metadata": {
        "id": "view-in-github",
        "colab_type": "text"
      },
      "source": [
        "<a href=\"https://colab.research.google.com/github/cbi-automation/lk-extraction/blob/fitriadc-dev/MVP_FinX_2_0.ipynb\" target=\"_parent\"><img src=\"https://colab.research.google.com/assets/colab-badge.svg\" alt=\"Open In Colab\"/></a>"
      ]
    },
    {
      "cell_type": "markdown",
      "metadata": {
        "id": "Z9ba7a2bzmSo"
      },
      "source": [
        "## 📄 FinX : Tools Ekstraksi Informasi Laporan Keuangan\n",
        "\n",
        "Program ini dibuat untuk mengekstraksi informasi penting dari laporan keuangan (PDF) berbagai perusahaan yang terdaftar di Bursa Efek Indonesia. Dokumentasi ini ditujukan untuk pembaca non-teknis maupun teknis, agar dapat memahami alur logika program dan mengembangkannya lebih lanjut."
      ]
    },
    {
      "cell_type": "markdown",
      "metadata": {
        "id": "SiT7SCllyI1I"
      },
      "source": [
        "# Product Documentation"
      ]
    },
    {
      "cell_type": "markdown",
      "metadata": {
        "id": "IeTEqSJOE-5N"
      },
      "source": [
        "## System Documentation"
      ]
    },
    {
      "cell_type": "markdown",
      "metadata": {
        "id": "TCY2g7X27twh"
      },
      "source": [
        "### **Arsitektur Sistem**\n",
        "\n",
        "FinX tersusun dari beberapa modul utama:\n",
        "\n",
        "- `Main.ipynb`: Entry point untuk menjalankan proses ekstraksi.\n",
        "- `marker_config.py`: Marker unik per emiten yang memandu proses ekstraksi.\n",
        "\n",
        "### **Alur Data**\n",
        "\n",
        "- **Input**: Laporan keuangan (PDF) dari situs BEI.\n",
        "- **Proses**: Dibaca dengan `pdfplumber`, dipilah berdasarkan marker.\n",
        "- **Output**: File `.xlsx` berisi informasi yang terstruktur."
      ]
    },
    {
      "cell_type": "markdown",
      "metadata": {
        "id": "KT59bXQCyhJO"
      },
      "source": [
        "## User Documentation"
      ]
    },
    {
      "cell_type": "markdown",
      "metadata": {
        "id": "4bcEWnAL8OZ0"
      },
      "source": [
        "### **Instalasi Program**"
      ]
    },
    {
      "cell_type": "markdown",
      "metadata": {
        "id": "ZnQN0eAN8rWj"
      },
      "source": [
        "- Tambahkan pintasan folder berikut ke Google Drive lokal (root):\n",
        "   [📁 Folder Drive FinX](https://drive.google.com/drive/folders/1mZBcnBDgAkWPbhptWDl6UhLeUB6_ps6M)\n",
        "\n",
        "- Buka link program berikut:\n",
        "   [🔗 Program Utama FinX (Colab)](https://github.com/cbi-automation/lk-extraction/blob/fitriadc-dev/Main.ipynb)\n",
        "\n",
        "- Jalankan langkah berikut:\n",
        "   - Masukkan daftar nama emiten, kuarta, dan tahun yang ingin diesktrak pada variabel list `all_companies`, `kuartal`, dan `tahun`.\n",
        "   - Klik **Runtime > Run all** dan tunggu proses selesai."
      ]
    },
    {
      "cell_type": "markdown",
      "metadata": {
        "id": "KPDwO2b_8uYT"
      },
      "source": [
        "### **Menambah Emiten Baru**"
      ]
    },
    {
      "cell_type": "markdown",
      "metadata": {
        "id": "k55Uk-AG9fZ8"
      },
      "source": [
        "- Buat folder baru pada folder `IDX_CALK_FX_SB_82`dengan format `/{kode_emiten}`\n",
        "- Tambahkan file pdf di dalam folder emiten tersebut dengan format `{kode_emiten}-{tahun}-{kuartal}`\n",
        "- Lakukan langkah `Menambah Jenis Informasi Baru untuk Diekstrak` sesuai jenis informasi yang dibutuhkan dari emiten tersebut."
      ]
    },
    {
      "cell_type": "markdown",
      "metadata": {
        "id": "yXNRZmBd8zno"
      },
      "source": [
        "### **Menambah Jenis Informasi Baru untuk Sebuah Emiten**"
      ]
    },
    {
      "cell_type": "markdown",
      "metadata": {
        "id": "OCvjzR9W9ksu"
      },
      "source": [
        "- Tentukan pattern marker (start dan end) yang tertera dalam dokument pdf sesuai jenis informasi yang ingin diekstrak.\n",
        "- Tambahkan marker tersebut di `marker_config.py`."
      ]
    },
    {
      "cell_type": "markdown",
      "metadata": {
        "id": "x_-ZqBJSy_8g"
      },
      "source": [
        "# Source Code Documentation"
      ]
    },
    {
      "cell_type": "markdown",
      "metadata": {
        "id": "DTEKXsr2_Pxt"
      },
      "source": [
        "#### Setup & Inisialisasi Lingkungan"
      ]
    },
    {
      "cell_type": "markdown",
      "metadata": {
        "id": "EvtJre_HAEVJ"
      },
      "source": [
        "Bagian pertama memuat berbagai *library* yang dibutuhkan, baik untuk pemrosesan file PDF (`pdfplumber`, `PyMuPDF`), pengolahan data (`pandas`), maupun manajemen sistem (`os`, `json`, `time`)."
      ]
    },
    {
      "cell_type": "code",
      "execution_count": 678,
      "metadata": {
        "colab": {
          "base_uri": "https://localhost:8080/"
        },
        "id": "nrkLt9l5A2jn",
        "outputId": "8afa7abe-b523-4493-e9c5-85608747461e"
      },
      "outputs": [
        {
          "output_type": "stream",
          "name": "stdout",
          "text": [
            "Requirement already satisfied: PyMuPDF in /usr/local/lib/python3.11/dist-packages (1.26.1)\n",
            "Requirement already satisfied: pdfplumber in /usr/local/lib/python3.11/dist-packages (0.11.6)\n",
            "Requirement already satisfied: pdfminer.six==20250327 in /usr/local/lib/python3.11/dist-packages (from pdfplumber) (20250327)\n",
            "Requirement already satisfied: Pillow>=9.1 in /usr/local/lib/python3.11/dist-packages (from pdfplumber) (11.2.1)\n",
            "Requirement already satisfied: pypdfium2>=4.18.0 in /usr/local/lib/python3.11/dist-packages (from pdfplumber) (4.30.1)\n",
            "Requirement already satisfied: charset-normalizer>=2.0.0 in /usr/local/lib/python3.11/dist-packages (from pdfminer.six==20250327->pdfplumber) (3.4.2)\n",
            "Requirement already satisfied: cryptography>=36.0.0 in /usr/local/lib/python3.11/dist-packages (from pdfminer.six==20250327->pdfplumber) (43.0.3)\n",
            "Requirement already satisfied: cffi>=1.12 in /usr/local/lib/python3.11/dist-packages (from cryptography>=36.0.0->pdfminer.six==20250327->pdfplumber) (1.17.1)\n",
            "Requirement already satisfied: pycparser in /usr/local/lib/python3.11/dist-packages (from cffi>=1.12->cryptography>=36.0.0->pdfminer.six==20250327->pdfplumber) (2.22)\n"
          ]
        }
      ],
      "source": [
        "import os\n",
        "import json\n",
        "import time\n",
        "from concurrent.futures import ThreadPoolExecutor, as_completed\n",
        "!pip install PyMuPDF\n",
        "import warnings, logging, re, os\n",
        "!pip install pdfplumber\n",
        "import pdfplumber\n",
        "import pandas as pd\n",
        "from google.colab import files\n",
        "import time\n",
        "import fitz  # PyMuPDF\n",
        "from dataclasses import dataclass, field\n",
        "from typing import Dict, Optional"
      ]
    },
    {
      "cell_type": "code",
      "execution_count": 679,
      "metadata": {
        "colab": {
          "base_uri": "https://localhost:8080/"
        },
        "id": "WCuSPH0YA5Jf",
        "outputId": "912fc0e2-f656-41fb-ca9e-60e144752342"
      },
      "outputs": [
        {
          "output_type": "stream",
          "name": "stdout",
          "text": [
            "Drive already mounted at /content/drive; to attempt to forcibly remount, call drive.mount(\"/content/drive\", force_remount=True).\n"
          ]
        }
      ],
      "source": [
        "from google.colab import drive\n",
        "drive.mount('/content/drive')\n",
        "\n",
        "# Catat waktu mulai\n",
        "start_program_time = time.time()"
      ]
    },
    {
      "cell_type": "markdown",
      "metadata": {
        "id": "WyP4FJm0_4uZ"
      },
      "source": [
        "Pencatatan waktu program dijalankan dengan time.time(). Hal ini digunakan untuk mengetahui durasi total eksekusi program.\n",
        "\n",
        "Selanjutnya, dilakukan konfigurasi path dasar sumber data dan folder output sebagai tempat menyimpan hasil ekstraksi. Jika belum tersedia, maka folder otomatis dibuat menggunakan `os.makedirs`."
      ]
    },
    {
      "cell_type": "code",
      "execution_count": 680,
      "metadata": {
        "id": "bfzUdpjEBOR1"
      },
      "outputs": [],
      "source": [
        "# Path dasar input dan output\n",
        "base_path = \"/content/drive/MyDrive/IDX_CALK_FX_SB_82\"\n",
        "output_path = os.path.join(base_path, \"output\")\n",
        "os.makedirs(output_path, exist_ok=True)\n",
        "\n",
        "# Konfigurasi nama file output\n",
        "output_json_file = \"hasil_semua.json\"\n",
        "output_file = \"hasil_ekstraksi.xlsx\"\n",
        "benchmark_file = \"benchmark_waktu.xlsx\""
      ]
    },
    {
      "cell_type": "markdown",
      "metadata": {
        "id": "SikCtNv8AFxA"
      },
      "source": [
        "#### Parameter Pemrosesan & Multi-threading"
      ]
    },
    {
      "cell_type": "markdown",
      "metadata": {
        "id": "gdifQd1_BgQt"
      },
      "source": [
        "Daftar perusahaan yang akan diproses disimpan dalam `all_companies`, serta tahun (`years`) dan kuartal (`quarters`) yang diinginkan. Pemrosesan dilakukan secara paralel (multi-threading) dengan batas maksimal thread (`max_workers`) yang disesuaikan dengan jumlah inti CPU."
      ]
    },
    {
      "cell_type": "code",
      "execution_count": 681,
      "metadata": {
        "id": "At_YjMjcBjLM"
      },
      "outputs": [],
      "source": [
        "# Daftar perusahaan\n",
        "# all_companies = [\n",
        "#     \"TLKM\", \"INDF\", \"INKP\", \"ADRO\", \"UNTR\", \"JSMR\", \"ICBP\", \"MEDC\", \"ISAT\", \"GIAA\",\n",
        "#     \"PGAS\", \"EXCL\", \"TPIA\", \"SMGR\", \"MDKA\", \"BHIT\", \"BSDE\", \"WIKA\", \"IMAS\", \"TKIM\",\n",
        "#     \"HMSP\", \"LPKR\", \"INDY\", \"BYAN\", \"INCO\", \"TBIG\", \"CTRA\", \"FREN\", \"EMTK\", \"CPIN\",\n",
        "#     \"ANTM\", \"SMAR\", \"PTBA\", \"ADHI\", \"PANI\", \"HRUM\", \"AMRT\", \"BMTR\", \"SIMP\", \"JPFA\",\n",
        "#     \"ITMG\", \"PWON\", \"ABMM\", \"AKRA\", \"AALI\", \"INTP\", \"KLBF\", \"MAPI\", \"BIPI\", \"APLN\",\n",
        "#     \"MYOR\", \"DOID\", \"TBLA\", \"BUKA\", \"MNCN\", \"ENRG\", \"ASRI\", \"CMNP\", \"SMCB\", \"DNET\",\n",
        "#     \"AUTO\", \"BKSL\", \"CENT\", \"GEMS\", \"SMDR\", \"GJTL\", \"UNVR\", \"BRMS\", \"CMNT\", \"KAEF\",\n",
        "#     \"DSNG\", \"DUTI\", \"TOBA\", \"DILD\", \"TAPG\", \"MDLN\", \"NIRO\", \"JRPT\", \"PSAB\", \"KIJA\",\n",
        "#     \"TINS\", \"LSIP\", \"ARCI\", \"MLPL\", \"FASW\", \"INDR\", \"PLIN\", \"MCOL\", \"TSPC\", \"SSMS\",\n",
        "#     \"CSAP\", \"MAPA\", \"PTRO\", \"EPMT\", \"SILO\", \"SCMA\", \"LPCK\", \"MTDL\", \"ELSA\", \"SGRO\"\n",
        "# ]\n",
        "\n",
        "all_companies = [\"SMCB\"]\n",
        "\n",
        "# Tahun dan kuartal yang ingin diproses\n",
        "years = [\"2021\", \"2022\",\"2023\", \"2024\", \"2025\"]\n",
        "quarters = [\"Q1\", \"Q2\", \"Q3\",\"Q4\"]\n",
        "max_workers = min(10, os.cpu_count() or 4)\n",
        "batch_size = 10\n",
        "\n",
        "import logging\n",
        "logging.getLogger(\"pdfminer\").setLevel(logging.ERROR)"
      ]
    },
    {
      "cell_type": "markdown",
      "metadata": {
        "id": "UOa8Gj2AAIUV"
      },
      "source": [
        "#### Konfigurasi Marker untuk Ekstraksi Teks"
      ]
    },
    {
      "cell_type": "markdown",
      "metadata": {
        "id": "VJUDHT7DBmou"
      },
      "source": [
        "Marker adalah kata kunci yang digunakan untuk menemukan bagian penting dari laporan keuangan. File `marker_config.py` diunduh langsung dari GitHub dan berisi konfigurasi penanda untuk berbagai perusahaan. Selanjutnya diambil konfigurasi marker untuk ratusan emiten saham dari file `marker_config.py`yang berisi aturan atau pola teks spesifik yang digunakan untuk mengekstraksi informasi tertentu dari laporan keuangan PDF emiten terkait. Setelah semua konfigurasi diimpor, kode tersebut membuat sebuah dictionary bernama marker_config_map yang memetakan ticker saham ke konfigurasi marker yang sesuai."
      ]
    },
    {
      "cell_type": "code",
      "execution_count": 682,
      "metadata": {
        "colab": {
          "base_uri": "https://localhost:8080/"
        },
        "id": "fR_EqtrMBtUV",
        "outputId": "e409f54b-17f2-4223-b0cd-913f0036b981"
      },
      "outputs": [
        {
          "output_type": "stream",
          "name": "stdout",
          "text": [
            "--2025-06-12 04:13:57--  https://raw.githubusercontent.com/cbi-automation/lk-extraction/fitriadc-dev/marker_config.py\n",
            "Resolving raw.githubusercontent.com (raw.githubusercontent.com)... 185.199.108.133, 185.199.109.133, 185.199.110.133, ...\n",
            "Connecting to raw.githubusercontent.com (raw.githubusercontent.com)|185.199.108.133|:443... connected.\n",
            "HTTP request sent, awaiting response... 200 OK\n",
            "Length: 23469 (23K) [text/plain]\n",
            "Saving to: ‘marker_config.py’\n",
            "\n",
            "marker_config.py    100%[===================>]  22.92K  --.-KB/s    in 0.008s  \n",
            "\n",
            "2025-06-12 04:13:57 (2.79 MB/s) - ‘marker_config.py’ saved [23469/23469]\n",
            "\n"
          ]
        }
      ],
      "source": [
        "!wget https://raw.githubusercontent.com/cbi-automation/lk-extraction/fitriadc-dev/marker_config.py -O marker_config.py\n",
        "\n",
        "\n",
        "from marker_config import (\n",
        "    ELSA_marker_config,\n",
        "    SGRO_marker_config,\n",
        "    TLKM_marker_config,\n",
        "    INDF_marker_config,\n",
        "    INKP_marker_config,\n",
        "    ADRO_marker_config,\n",
        "    UNTR_marker_config,\n",
        "    JSMR_marker_config,\n",
        "    ICBP_marker_config,\n",
        "    MEDC_marker_config,\n",
        "    ISAT_marker_config,\n",
        "    GIAA_marker_config,\n",
        "    PGAS_marker_config,\n",
        "    EXCL_marker_config,\n",
        "    TPIA_marker_config,\n",
        "    SMGR_marker_config,\n",
        "    MDKA_marker_config,\n",
        "    TOWR_marker_config,\n",
        "    BHIT_marker_config,\n",
        "    BSDE_marker_config,\n",
        "    WIKA_marker_config,\n",
        "    IMAS_marker_config,\n",
        "    TKIM_marker_config,\n",
        "    PTPP_marker_config,\n",
        "    HMSP_marker_config,\n",
        "    LPKR_marker_config,\n",
        "    DSSA_marker_config,\n",
        "    INDY_marker_config,\n",
        "    BYAN_marker_config,\n",
        "    INCO_marker_config,\n",
        "    TBIG_marker_config,\n",
        "    CTRA_marker_config,\n",
        "    FREN_marker_config,\n",
        "    EMTK_marker_config,\n",
        "    KRAS_marker_config,\n",
        "    CPIN_marker_config,\n",
        "    ANTM_marker_config,\n",
        "    SMAR_marker_config,\n",
        "    PTBA_marker_config,\n",
        "    ADHI_marker_config,\n",
        "    PANI_marker_config,\n",
        "    HRUM_marker_config,\n",
        "    AMRT_marker_config,\n",
        "    BMTR_marker_config,\n",
        "    SIMP_marker_config,\n",
        "    JPFA_marker_config,\n",
        "    ITMG_marker_config,\n",
        "    KPIG_marker_config,\n",
        "    PWON_marker_config,\n",
        "    ABMM_marker_config,\n",
        "    SMRA_marker_config,\n",
        "    AKRA_marker_config,\n",
        "    AALI_marker_config,\n",
        "    INTP_marker_config,\n",
        "    KLBF_marker_config,\n",
        "    MAPI_marker_config,\n",
        "    BIPI_marker_config,\n",
        "    APLN_marker_config,\n",
        "    MYOR_marker_config,\n",
        "    DOID_marker_config,\n",
        "    TBLA_marker_config,\n",
        "    BUKA_marker_config,\n",
        "    MNCN_marker_config,\n",
        "    ERAA_marker_config,\n",
        "    ENRG_marker_config,\n",
        "    ASRI_marker_config,\n",
        "    CMNP_marker_config,\n",
        "    SMCB_marker_config,\n",
        "    POWR_marker_config,\n",
        "    DNET_marker_config,\n",
        "    AUTO_marker_config,\n",
        "    BKSL_marker_config,\n",
        "    CENT_marker_config,\n",
        "    GEMS_marker_config,\n",
        "    SMDR_marker_config,\n",
        "    GJTL_marker_config,\n",
        "    PPRO_marker_config,\n",
        "    # GGRP_marker_config,\n",
        "    UNVR_marker_config,\n",
        "    BRMS_marker_config,\n",
        "    CMNT_marker_config,\n",
        "    KAEF_marker_config,\n",
        "    DSNG_marker_config,\n",
        "    DUTI_marker_config,\n",
        "    TOBA_marker_config,\n",
        "    DILD_marker_config,\n",
        "    TAPG_marker_config,\n",
        "    MDLN_marker_config,\n",
        "    NIRO_marker_config,\n",
        "    JRPT_marker_config,\n",
        "    PSAB_marker_config,\n",
        "    KIJA_marker_config,\n",
        "    TINS_marker_config,\n",
        "    LSIP_marker_config,\n",
        "    ARCI_marker_config,\n",
        "    MLPL_marker_config,\n",
        "    FASW_marker_config,\n",
        "    INDR_marker_config,\n",
        "    PLIN_marker_config,\n",
        "    MCOL_marker_config,\n",
        "    TSPC_marker_config,\n",
        "    SSMS_marker_config,\n",
        "    CSAP_marker_config,\n",
        "    MAPA_marker_config,\n",
        "    PTRO_marker_config,\n",
        "    EPMT_marker_config,\n",
        "    SILO_marker_config,\n",
        "    SCMA_marker_config,\n",
        "    LPCK_marker_config,\n",
        "    MTDL_marker_config\n",
        ")\n",
        "\n",
        "marker_config_map = {\n",
        "    \"ELSA\":ELSA_marker_config,\n",
        "    \"SGRO\": SGRO_marker_config,\n",
        "    \"TLKM\": TLKM_marker_config,\n",
        "    \"INDF\": INDF_marker_config,\n",
        "    \"INKP\": INKP_marker_config,\n",
        "    \"ADRO\": ADRO_marker_config,\n",
        "    \"UNTR\": UNTR_marker_config,\n",
        "    \"JSMR\": JSMR_marker_config,\n",
        "    \"ICBP\": ICBP_marker_config,\n",
        "    \"MEDC\": MEDC_marker_config,\n",
        "    \"ISAT\": ISAT_marker_config,\n",
        "    \"GIAA\": GIAA_marker_config,\n",
        "    \"PGAS\": PGAS_marker_config,\n",
        "    \"EXCL\": EXCL_marker_config,\n",
        "    \"TPIA\": TPIA_marker_config,\n",
        "    \"SMGR\": SMGR_marker_config,\n",
        "    \"MDKA\": MDKA_marker_config,\n",
        "    \"TOWR\": TOWR_marker_config,\n",
        "    \"BHIT\": BHIT_marker_config,\n",
        "    \"BSDE\": BSDE_marker_config,\n",
        "    \"WIKA\": WIKA_marker_config,\n",
        "    \"IMAS\": IMAS_marker_config,\n",
        "    \"TKIM\": TKIM_marker_config,\n",
        "    \"PTPP\": PTPP_marker_config,\n",
        "    \"HMSP\": HMSP_marker_config,\n",
        "    \"LPKR\": LPKR_marker_config,\n",
        "    \"DSSA\": DSSA_marker_config,\n",
        "    \"INDY\": INDY_marker_config,\n",
        "    \"BYAN\": BYAN_marker_config,\n",
        "    \"INCO\": INCO_marker_config,\n",
        "    \"TBIG\": TBIG_marker_config,\n",
        "    \"CTRA\": CTRA_marker_config,\n",
        "    \"FREN\": FREN_marker_config,\n",
        "    \"EMTK\": EMTK_marker_config,\n",
        "    \"KRAS\": KRAS_marker_config,\n",
        "    \"CPIN\": CPIN_marker_config,\n",
        "    \"ANTM\": ANTM_marker_config,\n",
        "    \"SMAR\": SMAR_marker_config,\n",
        "    \"PTBA\": PTBA_marker_config,\n",
        "    \"ADHI\": ADHI_marker_config,\n",
        "    \"PANI\": PANI_marker_config,\n",
        "    \"HRUM\": HRUM_marker_config,\n",
        "    \"AMRT\": AMRT_marker_config,\n",
        "    \"BMTR\": BMTR_marker_config,\n",
        "    \"SIMP\": SIMP_marker_config,\n",
        "    \"JPFA\": JPFA_marker_config,\n",
        "    \"ITMG\": ITMG_marker_config,\n",
        "    \"KPIG\": KPIG_marker_config,\n",
        "    \"PWON\": PWON_marker_config,\n",
        "    \"ABMM\": ABMM_marker_config,\n",
        "    \"SMRA\": SMRA_marker_config,\n",
        "    \"AKRA\": AKRA_marker_config,\n",
        "    \"AALI\": AALI_marker_config,\n",
        "    \"INTP\": INTP_marker_config,\n",
        "    \"KLBF\": KLBF_marker_config,\n",
        "    \"MAPI\": MAPI_marker_config,\n",
        "    \"BIPI\": BIPI_marker_config,\n",
        "    \"APLN\": APLN_marker_config,\n",
        "    \"MYOR\": MYOR_marker_config,\n",
        "    \"DOID\": DOID_marker_config,\n",
        "    \"TBLA\": TBLA_marker_config,\n",
        "    \"BUKA\": BUKA_marker_config,\n",
        "    \"MNCN\": MNCN_marker_config,\n",
        "    \"ERAA\": ERAA_marker_config,\n",
        "    \"ENRG\": ENRG_marker_config,\n",
        "    \"ASRI\": ASRI_marker_config,\n",
        "    \"CMNP\": CMNP_marker_config,\n",
        "    \"SMCB\": SMCB_marker_config,\n",
        "    \"POWR\": POWR_marker_config,\n",
        "    \"DNET\": DNET_marker_config,\n",
        "    \"AUTO\": AUTO_marker_config,\n",
        "    \"BKSL\": BKSL_marker_config,\n",
        "    \"CENT\": CENT_marker_config,\n",
        "    \"GEMS\": GEMS_marker_config,\n",
        "    \"SMDR\": SMDR_marker_config,\n",
        "    \"GJTL\": GJTL_marker_config,\n",
        "    \"PPRO\": PPRO_marker_config,\n",
        "    # \"GGRP\": GGRP_marker_config,\n",
        "    \"UNVR\": UNVR_marker_config,\n",
        "    \"BRMS\": BRMS_marker_config,\n",
        "    \"CMNT\": CMNT_marker_config,\n",
        "    \"KAEF\": KAEF_marker_config,\n",
        "    \"DSNG\": DSNG_marker_config,\n",
        "    \"DUTI\": DUTI_marker_config,\n",
        "    \"TOBA\": TOBA_marker_config,\n",
        "    \"DILD\": DILD_marker_config,\n",
        "    \"TAPG\": TAPG_marker_config,\n",
        "    \"MDLN\": MDLN_marker_config,\n",
        "    \"NIRO\": NIRO_marker_config,\n",
        "    \"JRPT\": JRPT_marker_config,\n",
        "    \"PSAB\": PSAB_marker_config,\n",
        "    \"KIJA\": KIJA_marker_config,\n",
        "    \"TINS\": TINS_marker_config,\n",
        "    \"LSIP\": LSIP_marker_config,\n",
        "    \"ARCI\": ARCI_marker_config,\n",
        "    \"MLPL\": MLPL_marker_config,\n",
        "    \"FASW\": FASW_marker_config,\n",
        "    \"INDR\": INDR_marker_config,\n",
        "    \"PLIN\": PLIN_marker_config,\n",
        "    \"MCOL\": MCOL_marker_config,\n",
        "    \"TSPC\": TSPC_marker_config,\n",
        "    \"SSMS\": SSMS_marker_config,\n",
        "    \"CSAP\": CSAP_marker_config,\n",
        "    \"MAPA\": MAPA_marker_config,\n",
        "    \"PTRO\": PTRO_marker_config,\n",
        "    \"EPMT\": EPMT_marker_config,\n",
        "    \"SILO\": SILO_marker_config,\n",
        "    \"SCMA\": SCMA_marker_config,\n",
        "    \"LPCK\": LPCK_marker_config,\n",
        "    \"MTDL\": MTDL_marker_config\n",
        "}"
      ]
    },
    {
      "cell_type": "markdown",
      "metadata": {
        "id": "8Xb9FL2iALd3"
      },
      "source": [
        "#### Ekstraksi Informasi & Parsing Dokumen"
      ]
    },
    {
      "cell_type": "markdown",
      "metadata": {
        "id": "JBALBMW-B19c"
      },
      "source": [
        "Fungsi `extract_text()` bertanggung jawab untuk membaca seluruh isi teks dari setiap halaman PDF. Library fitz (alias PyMuPDF) digunakan karena lebih cepat dan andal dibanding library lain seperti pdfminer."
      ]
    },
    {
      "cell_type": "code",
      "execution_count": 683,
      "metadata": {
        "id": "ldtKz34eB4jL"
      },
      "outputs": [],
      "source": [
        "# Fungsi ekstraksi teks yang cepat\n",
        "def extract_text(file_path):\n",
        "    text = \"\"\n",
        "    with fitz.open(file_path) as doc:\n",
        "        for page in doc:\n",
        "            text += page.get_text()\n",
        "    return text"
      ]
    },
    {
      "cell_type": "markdown",
      "metadata": {
        "id": "DXDs_2b9B6YK"
      },
      "source": [
        "Program menggunakan Python `@dataclass` untuk menyimpan hasil ekstraksi dalam bentuk struktur data Company. Ini memudahkan penyimpanan dan konversi ke format tabular seperti CSV atau Excel. Setiap objek `Company` merepresentasikan satu laporan keuangan dari satu perusahaan pada satu kuartal."
      ]
    },
    {
      "cell_type": "code",
      "execution_count": 684,
      "metadata": {
        "id": "ID9i7b11B7-e"
      },
      "outputs": [],
      "source": [
        "from dataclasses import dataclass, asdict\n",
        "from typing import Dict\n",
        "\n",
        "@dataclass\n",
        "class Company:\n",
        "    kuartal: str = \"-\"\n",
        "    perusahaan: str = \"-\"\n",
        "    satuan_nilai_tukar: str = \"-\"\n",
        "    perubahan_laba_rugi_naik: str = \"-\"\n",
        "    perubahan_laba_rugi_turun: str = \"-\"\n",
        "    normalisasi_laba_rugi_naik: str = \"-\"\n",
        "    normalisasi_laba_rugi_turun: str = \"-\"\n",
        "    normalisasi_laba_rugi_tahun_sebelumnya_naik: str = \"-\"\n",
        "    normalisasi_laba_rugi_tahun_sebelumnya_turun: str = \"-\"\n",
        "    risiko_nilai_tukar: str = \"-\"\n",
        "    risiko_suku_bunga: str = \"-\"\n",
        "    satuan: str = \"-\"\n",
        "    elastisitas_naik: str = \"-\"  # Tambahan\n",
        "    elastisitas_turun: str = \"-\"  # Tambahan\n",
        "\n",
        "    def to_dict(self) -> Dict[str, str]:\n",
        "        return asdict(self)\n",
        "\n",
        "    @classmethod\n",
        "    def from_dict(cls, data: dict) -> 'Company':\n",
        "        return cls(**data)\n",
        "\n",
        "field_map: Dict[str, str] = {\n",
        "    \"kuartal\": \"Kuartal\",\n",
        "    \"perusahaan\": \"Perusahaan\",\n",
        "    \"satuan_nilai_tukar\": \"Satuan Nilai Tukar (persen)\",\n",
        "    \"perubahan_laba_rugi_naik\": \"Perubahan Laba Rugi Naik\",\n",
        "    \"perubahan_laba_rugi_turun\": \"Perubahan Laba Rugi Turun\",\n",
        "    \"normalisasi_laba_rugi_naik\": \"Normalisasi Laba Rugi Naik\",\n",
        "    \"normalisasi_laba_rugi_turun\": \"Normalisasi Laba Rugi Turun\",\n",
        "    \"normalisasi_laba_rugi_tahun_sebelumnya_naik\": \"Normalisasi Laba Rugi Naik Tahun Sebelumnya\",\n",
        "    \"normalisasi_laba_rugi_tahun_sebelumnya_turun\": \"Normalisasi Laba Rugi Turun Tahun Sebelumnya\",\n",
        "    \"elastisitas_naik\": \"Elastisitas Naik\",  # Tambahan\n",
        "    \"elastisitas_turun\": \"Elastisitas Turun\",  # Tambahan\n",
        "}\n",
        "\n",
        "\n",
        "def get_str(value) -> str:\n",
        "    if value is None:\n",
        "        return \"-\"\n",
        "    val = str(value).strip()\n",
        "    return val if val else \"-\"\n",
        "\n",
        "def generate_company(doc: Optional[dict]) -> Company:\n",
        "    data = {}\n",
        "    for attr, source_key in field_map.items():\n",
        "        data[attr] = get_str(doc.get(source_key)) if doc else \"-\"\n",
        "    return Company(**data)\n",
        "\n",
        "company = Company()"
      ]
    },
    {
      "cell_type": "markdown",
      "metadata": {
        "id": "PaKK7tqaCLoS"
      },
      "source": [
        "`field_map` adalah dictionary yang berfungsi untuk memetakan nama atribut internal (misalnya risiko_suku_bunga) ke nama kolom hasil ekstraksi yang lebih manusiawi (seperti \"Efek Risiko Suku Bunga\"). Hal ini membuat hasil akhir lebih mudah dibaca dan diekspor ke Excel atau antarmuka lain.\n",
        "\n",
        "Fungsi `get_str()` memastikan bahwa nilai dari hasil ekstraksi selalu berupa string yang bersih dari spasi atau None. Jika nilai kosong atau tidak tersedia, fungsi ini akan mengembalikan tanda -, agar hasil tetap konsisten dan tidak menimbulkan error saat diproses lebih lanjut.\n",
        "\n",
        "Fungsi `generate_company()` membentuk satu instance Company berdasarkan hasil ekstraksi teks PDF dan marker yang sesuai untuk masing-masing perusahaan. Ia memanggil fungsi-fungsi find_satuan, find_nilai_tukar, dan find_suku_bunga dari konfigurasi marker emiten."
      ]
    },
    {
      "cell_type": "code",
      "execution_count": 685,
      "metadata": {
        "id": "laKZXBNmCPQ8"
      },
      "outputs": [],
      "source": [
        "\n",
        "def find_paragraphs_by_marker_pairs(text, marker_pairs, kuartal=\"2022\"):\n",
        "    start_marker, end_marker = marker_pairs[0]\n",
        "    start_idx = text.find(start_marker)\n",
        "    if start_idx == -1:\n",
        "        print(f\"[❗] Start marker tidak ditemukan di {kuartal}: {start_marker}\")\n",
        "        return \"-\"  # Jika tidak ditemukan, kembalikan \"-\" sebagai indikator tidak ditemukan\n",
        "\n",
        "    search_range = text[start_idx:]\n",
        "    end_relative = search_range.find(end_marker)\n",
        "    if end_relative == -1:\n",
        "        print(f\"[❗] End marker tidak ditemukan setelah start marker di {kuartal}: {end_marker}\")\n",
        "        return \"-\"  # Jika tidak ditemukan, kembalikan \"-\" sebagai indikator tidak ditemukan\n",
        "\n",
        "    end_idx = start_idx + end_relative\n",
        "\n",
        "    orig_start_idx = text.lower().find(start_marker.lower())\n",
        "    orig_end_idx = text.lower().find(end_marker.lower(), orig_start_idx)\n",
        "\n",
        "    if orig_start_idx != -1 and orig_end_idx != -1:\n",
        "        content_raw = text[orig_start_idx + len(start_marker): orig_end_idx]\n",
        "        snippet = content_raw.strip()\n",
        "    else:\n",
        "        snippet = text[start_idx + len(start_marker): end_idx].strip()\n",
        "\n",
        "    return snippet  # Kembalikan string langsung, bukan list atau dict"
      ]
    },
    {
      "cell_type": "markdown",
      "metadata": {
        "id": "c2jV__OeCSOV"
      },
      "source": [
        "Fungsi `process_pdf_batch()` menangani pemrosesan banyak file PDF secara paralel dalam batch. Ia akan mencoba mengimpor konfigurasi marker perusahaan secara dinamis, mengeksekusi generate_company, dan menyimpan hasil ekstraksi ke list `results`."
      ]
    },
    {
      "cell_type": "code",
      "execution_count": 686,
      "metadata": {
        "id": "vyJzf12TCUI_"
      },
      "outputs": [],
      "source": [
        "def find_suku_bunga(text, marker_pairs, company: Company, kuartal: str):\n",
        "    # Gabungkan newline jadi spasi agar regex lebih fleksibel\n",
        "    teks_kotor = find_paragraphs_by_marker_pairs(text, marker_pairs, kuartal)\n",
        "\n",
        "    # Cek apakah teks_kotor adalah list, dan gabungkan menjadi string jika iya\n",
        "    if isinstance(teks_kotor, list):\n",
        "        teks_kotor = \" \".join(teks_kotor)\n",
        "\n",
        "    teks_bersih = teks_kotor.replace(\"\\n\", \" \")\n",
        "\n",
        "    company.risiko_suku_bunga = teks_bersih"
      ]
    },
    {
      "cell_type": "markdown",
      "metadata": {
        "id": "7fF70q5aCXVr"
      },
      "source": [
        "Fungsi `find_nilai_tukar` dan `find_suku_bunga` bertanggung jawab untuk mengekstrak teks tertentu berdasarkan marker yang diberikan, yaitu terkait dengan risiko nilai tukar dan suku bunga. Keduanya menggunakan `find_paragraphs_by_marker_pairs` untuk mencari paragraf yang relevan dalam teks berdasarkan pasangan marker yang diberikan."
      ]
    },
    {
      "cell_type": "code",
      "execution_count": 687,
      "metadata": {
        "id": "4CS-cXLZCabt"
      },
      "outputs": [],
      "source": [
        "def process_all_markers(text, kuartal, emiten):\n",
        "    company = Company()\n",
        "    company.perusahaan = emiten\n",
        "    company.kuartal = kuartal\n",
        "\n",
        "    markers = marker_config_map.get(emiten.upper())\n",
        "\n",
        "    for marker_name, marker_pairs in markers.items():\n",
        "        function_name = marker_to_function.get(marker_name)\n",
        "        if not function_name:\n",
        "            continue\n",
        "\n",
        "        func = globals().get(function_name)\n",
        "        if not func:\n",
        "            print(f\"[⚠️] Fungsi '{function_name}' tidak ditemukan.\")\n",
        "            continue\n",
        "\n",
        "        # ⬇️ Fungsi sekarang juga menerima objek company yang akan di-update\n",
        "        func(text, marker_pairs, company, kuartal)\n",
        "\n",
        "    return company\n",
        "\n",
        "# Mapping marker ke fungsi\n",
        "marker_to_function = {\n",
        "    \"marker1\": \"find_satuan\",\n",
        "    \"marker2\": \"find_nilai_tukar\",\n",
        "    \"marker3\": \"find_suku_bunga\"\n",
        "}\n",
        "\n",
        "def find_satuan(text, marker_pairs, company: Company, kuartal: str):\n",
        "    results = find_paragraphs_by_marker_pairs(text, marker_pairs,kuartal)\n",
        "    # satuan = results if results else \"-\"\n",
        "    company.satuan = results"
      ]
    },
    {
      "cell_type": "markdown",
      "metadata": {
        "id": "BjgYHrtdCcP6"
      },
      "source": [
        "Fungsi `process_all_markers` menerima teks laporan, kuartal, dan nama emiten, lalu mengiterasi markers yang relevan untuk emiten tersebut. Setiap marker dipetakan ke fungsi yang sesuai menggunakan `marker_to_function`, dan kemudian fungsi itu dipanggil untuk mengekstrak data yang relevan. Fungsi-fungsi yang dipanggil akan memperbarui objek `Company` dengan hasil ekstraksi."
      ]
    },
    {
      "cell_type": "code",
      "execution_count": 688,
      "metadata": {
        "id": "um8Q9Qz3Ce4q"
      },
      "outputs": [],
      "source": [
        "# Fungsi pemrosesan individual\n",
        "def process_file(emiten, year, quarter):\n",
        "    kuartal_label = f\"{year}-{quarter}\"\n",
        "    pdf_file = f\"{base_path}/{emiten}/{emiten}-{year}-{quarter}.pdf\"\n",
        "    if not os.path.exists(pdf_file):\n",
        "        print(f\"[⚠️] File tidak ditemukan: {pdf_file}\")\n",
        "        return None\n",
        "\n",
        "    print(f\"\\n🔍 Memproses: {emiten} - {kuartal_label}\")\n",
        "    try:\n",
        "        start_time = time.time()\n",
        "        text = extract_text(pdf_file)\n",
        "        hasil = process_all_markers(text, kuartal_label, emiten)\n",
        "        elapsed = time.time() - start_time\n",
        "        print(f\"\\n✅ {kuartal_label}-{emiten} berhasil diproses dalam {elapsed:.2f} detik.\")\n",
        "        return f\"{emiten}-{kuartal_label}\", hasil.__dict__\n",
        "    except Exception as e:\n",
        "        print(f\"[⚠️] Error pada {emiten}-{kuartal_label}: {e}\")\n",
        "        return None"
      ]
    },
    {
      "cell_type": "markdown",
      "metadata": {
        "id": "TOjhDDHKCgXs"
      },
      "source": [
        "Fungsi `process_file` menerima informasi emiten, tahun, dan kuartal, serta nama file PDF yang relevan. Jika file ditemukan, teks diekstraksi menggunakan `extract_text`, kemudian diproses dengan memanggil process_all_markers untuk mengekstrak data berdasarkan marker. Durasi pemrosesan dihitung dan dicatat"
      ]
    },
    {
      "cell_type": "markdown",
      "metadata": {
        "id": "9YnSCGrXCmFY"
      },
      "source": [
        "Dilakukan pemeriksaan terlebih dahulu, apakah file JSON hasil proses sebelumnya `(output_json_file`) ada. Jika file ada, maka isinya akan dimuat ke dalam variabel all_results_dicts_dinamis. Jika file tidak ada, variabel ini diinisialisasi sebagai dictionary kosong. Ini memastikan bahwa data yang sudah diproses sebelumnya tidak diproses ulang."
      ]
    },
    {
      "cell_type": "code",
      "execution_count": 689,
      "metadata": {
        "id": "gWrhqZHODHUy"
      },
      "outputs": [],
      "source": [
        "import os\n",
        "import json\n",
        "\n",
        "# Cek dan baca file JSON jika sudah ada\n",
        "if os.path.exists(output_json_file):\n",
        "    with open(output_json_file, \"r\", encoding=\"utf-8\") as f:\n",
        "        raw_data = json.load(f)\n",
        "        all_results_dicts_dinamis = {\n",
        "            k: Company.from_dict(v) for k, v in raw_data.items()\n",
        "        }\n",
        "else:\n",
        "    all_results_dicts_dinamis = {}\n",
        "\n",
        "# Simpan waktu proses per kuartal\n",
        "benchmark_data = []\n",
        "\n",
        "# Cek apakah kombinasi emiten-year-quarter sudah diproses\n",
        "def is_processed(emiten, year, quarter):\n",
        "    key = f\"{emiten}-{year}-{quarter}\"\n",
        "    return key in all_results_dicts_dinamis"
      ]
    },
    {
      "cell_type": "markdown",
      "metadata": {
        "id": "Ebd9cbplDIWT"
      },
      "source": [
        "Fungsi `process_batch` memproses satu batch emiten dalam satu kuartal. Untuk setiap emiten dalam batch, fungsi ini memeriksa apakah laporan sudah diproses. Jika belum, fungsi ini memanggil `process_file` untuk memproses file laporan keuangan emiten tersebut. Setelah pemrosesan selesai, waktu yang digunakan untuk memproses laporan dihitung dan hasilnya disimpan dalam `batch_results`."
      ]
    },
    {
      "cell_type": "code",
      "execution_count": 690,
      "metadata": {
        "id": "FzD51v6VC9BJ"
      },
      "outputs": [],
      "source": [
        "def process_batch(batch_emiten, year, quarter):\n",
        "    batch_results = []\n",
        "    for emiten in batch_emiten:\n",
        "      if not is_processed(emiten, year, quarter):\n",
        "            start_time = time.time()\n",
        "            result = process_file(emiten, year, quarter)\n",
        "            if result:\n",
        "                key, data = result\n",
        "                batch_results.append((key, data, time.time() - start_time))\n",
        "    return batch_results"
      ]
    },
    {
      "cell_type": "code",
      "execution_count": 691,
      "metadata": {
        "id": "EdfVaAYcCqVz"
      },
      "outputs": [],
      "source": [
        "if os.path.exists(output_json_file):\n",
        "    with open(output_json_file, \"r\", encoding=\"utf-8\") as f:\n",
        "        all_results_dicts_dinamis = json.load(f)\n",
        "else:\n",
        "    all_results_dicts_dinamis = {}\n",
        "\n",
        "# Simpan waktu proses per kuartal\n",
        "benchmark_data = []\n",
        "\n",
        "# Cek apakah sudah diproses\n",
        "def is_processed(emiten, year, quarter):\n",
        "    key = f\"{emiten}-{year}-{quarter}\"\n",
        "    return key in all_results_dicts_dinamis"
      ]
    },
    {
      "cell_type": "markdown",
      "metadata": {
        "id": "H2Jg3pOUDMNG"
      },
      "source": [
        "Daftar emiten dibagi menjadi beberapa batch berdasarkan ukuran batch '(batch_size)'. Ini membantu untuk mengelompokkan emiten dalam jumlah yang lebih kecil sehingga proses dapat dijalankan secara paralel dan lebih efisien."
      ]
    },
    {
      "cell_type": "code",
      "execution_count": 692,
      "metadata": {
        "id": "sNuHvWFwDP-G"
      },
      "outputs": [],
      "source": [
        "# Bagi jadi batch\n",
        "emiten_batches = [all_companies[i:i + batch_size] for i in range(0, len(all_companies), batch_size)]"
      ]
    },
    {
      "cell_type": "code",
      "execution_count": 693,
      "metadata": {
        "id": "d-xvRlWzrgSt"
      },
      "outputs": [],
      "source": [
        "def isi_data_tahun_sebelumnya(perusahaan, kuartal, tahun):\n",
        "    tahun_lalu = str(int(tahun) - 1)\n",
        "    key_tahun_lalu = f\"{perusahaan}-{tahun_lalu}-{kuartal}\"\n",
        "    data_obj = all_results_dicts_dinamis.get(key_tahun_lalu)\n",
        "\n",
        "    try:\n",
        "        company.normalisasi_laba_rugi_tahun_sebelumnya_naik = data_obj.normalisasi_laba_rugi_naik\n",
        "        company.normalisasi_laba_rugi_tahun_sebelumnya_turun = data_obj.normalisasi_laba_rugi_turun\n",
        "    except (AttributeError, TypeError):\n",
        "        company.normalisasi_laba_rugi_tahun_sebelumnya_naik = \"-\"\n",
        "        company.normalisasi_laba_rugi_tahun_sebelumnya_turun = \"-\"\n",
        "        print(f\"Data tahun sebelumnya tidak ditemukan atau tidak lengkap untuk {key_tahun_lalu}\")"
      ]
    },
    {
      "cell_type": "markdown",
      "metadata": {
        "id": "etnJyki4DRz_"
      },
      "source": [
        "Untuk setiap batch emiten, kode menggunakan `ThreadPoolExecutor` untuk menjalankan proses pemrosesan laporan secara paralel. Setiap kuartal dan tahun diproses secara bersamaan untuk setiap emiten dalam batch. `max_workers ` menentukan jumlah thread yang akan digunakan secara bersamaan untuk pemrosesan ini."
      ]
    },
    {
      "cell_type": "markdown",
      "metadata": {
        "id": "Z-g9N6LvmOZL"
      },
      "source": [
        "### Compiling Nilai Tukar"
      ]
    },
    {
      "cell_type": "markdown",
      "metadata": {
        "id": "5sUvY3mNmHkh"
      },
      "source": []
    },
    {
      "cell_type": "code",
      "execution_count": 694,
      "metadata": {
        "id": "THZ1RjJ5OhPG"
      },
      "outputs": [],
      "source": [
        "import re\n",
        "import requests\n",
        "\n",
        "API_KEY = '0Ycbxo5RqcH71TAZJt6MBkG17sM8lX6U'\n",
        "\n",
        "NILAI_TUKAR_HISTORY = {\n",
        "    '2021-Q1': 14_200,\n",
        "    '2021-Q2': 14_300,\n",
        "    '2021-Q3': 14_500,\n",
        "    '2021-Q4': 14_600,\n",
        "    '2022-Q1': 14_700,\n",
        "    '2022-Q2': 14_800,\n",
        "    '2022-Q3': 15_000,\n",
        "    '2022-Q4': 15_200,\n",
        "    '2023-Q1': 14_968.65,\n",
        "    '2023-Q2': 15_040.30,\n",
        "    '2023-Q3': 15_493.00,\n",
        "    '2023-Q4': 15_482.97,\n",
        "    '2024-Q1': 15_205.00,\n",
        "    '2024-Q2': 16_359.04,\n",
        "    '2024-Q3': 15_321.63,\n",
        "    '2024-Q4': 16_052.34,\n",
        "    '2025-Q1': 16_466.11,\n",
        "    '2025-Q2': 16_650,\n",
        "}\n",
        "\n",
        "KATEGORI_SATUAN_PERUSAHAAN = {\n",
        "    \"AMRT\": \"Jutaan Rupiah\",\n",
        "    \"ADRO\": \"Ribuan USD\",\n",
        "    \"MEDC\": \"USD\",\n",
        "    \"GIAA\": \"USD\",\n",
        "    \"PGAS\": \"USD\",\n",
        "    \"MDKA\": \"USD\",\n",
        "    \"BYAN\": \"USD\",\n",
        "    \"INDY\": \"USD\",\n",
        "    \"TLKM\": \"miliaran Rupiah\",\n",
        "    \"EXCL\": \"jutaan Rupiah\",\n",
        "    \"INDF\": \"Jutaan Rupiah\",\n",
        "    \"ISAT\": \"Jutaan Rupiah\",\n",
        "    \"SMGR\": \"jutaan Rupiah\",\n",
        "    \"HMSP\": \"jutaan Rupiah\",\n",
        "    \"LPKR\": \"Jutaan Rupiah\",\n",
        "    \"BHIT\": \"jutaan Rupiah\",\n",
        "    \"BSDE\": \"Rupiah\",\n",
        "    \"IMAS\": \"Jutaan Rupiah\",\n",
        "    \"TBIG\": \"jutaan Rupiah\",\n",
        "    \"FREN\": \"Jutaan Rupiah\",\n",
        "    \"INCO\": \"Ribuan USD\",\n",
        "    \"TKIM\":\"Ribuan USD\",\n",
        "    \"EMTK\": \"Ribuan rupiah\",\n",
        "    \"SMAR\": \"Jutaan rupiah\",\n",
        "    \"WIKA\": \"Ribuan rupiah\",\n",
        "    \"PWON\": \"rupiah\",\n",
        "    \"ITMG\": \"ribuan USD\",\n",
        "    \"BMTR\":\"Jutaan rupiah\",\n",
        "    \"JPFA\": \"jutaan rupiah\",\n",
        "    \"ASRI\" : \"ribuan rupiah\",\n",
        "    \"AALI\" : \"jutaan rupiah\",\n",
        "    \"INTP\" : \"jutaan rupiah\",\n",
        "    \"KLBF\" : \"rupiah\",\n",
        "    \"BIPI\" :\"rupiah\",\n",
        "    \"ASRI\" : \"ribuan rupiah\",\n",
        "    \"CMNP\" : \"ribuan rupiah\",\n",
        "    \"MLPL\" : \"ribuan rupiah\",\n",
        "    \"LSIP\":  \"jutaan rupiah\",\n",
        "    \"SMCB\" : \"jutaan rupiah\"\n",
        "}"
      ]
    },
    {
      "cell_type": "code",
      "execution_count": 695,
      "metadata": {
        "id": "D8OavGjaP-BN"
      },
      "outputs": [],
      "source": [
        "def jutaan_to_satuan(nilai):\n",
        "    return nilai * 1_000_000\n",
        "\n",
        "\n",
        "def miliar_to_satuan(nilai):\n",
        "    return nilai * 1_000_000_000\n",
        "\n",
        "\n",
        "def ribuan_to_satuan(nilai):\n",
        "    return nilai * 1_000\n",
        "\n",
        "\n",
        "def usd_to_rupiah(nominal_usd: float, kuartal: str = None):\n",
        "    \"\"\"\n",
        "    Mengonversi nominal USD ke IDR.\n",
        "    Jika kuartal disediakan dan ada di history, gunakan nilai tukar historis.\n",
        "    Jika tidak, fallback ke API real-time.\n",
        "    \"\"\"\n",
        "    if kuartal and kuartal in NILAI_TUKAR_HISTORY:\n",
        "        rate = NILAI_TUKAR_HISTORY[kuartal]\n",
        "        amount_idr = nominal_usd * rate\n",
        "        print(f\"[HISTORIS] Nilai tukar untuk {kuartal}: 1 USD = {rate:,.0f} IDR\")\n",
        "        print(f\"{nominal_usd:,.0f} USD = {amount_idr:,.0f} IDR (historis)\")\n",
        "        return (f\"${amount_idr}\")\n",
        "    else:\n",
        "        # Fallback: real-time rate via API\n",
        "        url = 'https://api.apilayer.com/exchangerates_data/convert'\n",
        "        headers = {\n",
        "            'apikey': API_KEY\n",
        "        }\n",
        "        params = {\n",
        "            'from': 'USD',\n",
        "            'to': 'IDR',\n",
        "            'amount': nominal_usd\n",
        "        }\n",
        "        response = requests.get(url, headers=headers, params=params)\n",
        "        if response.status_code == 200:\n",
        "            data = response.json()\n",
        "            amount_idr = data.get('result')\n",
        "            rate = data.get('info', {}).get('rate', '-')\n",
        "            print(f\"[REAL-TIME] Nilai tukar saat ini: 1 USD = {rate:,.2f} IDR\")\n",
        "            return amount_idr\n",
        "        else:\n",
        "            print(\"Gagal mendapatkan data nilai tukar:\", response.text)\n",
        "            return None\n",
        "\n",
        "\n",
        "def standarisasi_nilai(perusahaan, nilai):\n",
        "    satuan = KATEGORI_SATUAN_PERUSAHAAN.get(perusahaan)\n",
        "    # Normalisasi input nilai\n",
        "    nilai = str(nilai).lower().replace(\"as$\", \"\").replace(\"$\", \"\").replace(\".\", \"\").replace(\",\", \"\").strip()\n",
        "\n",
        "    if satuan is None:\n",
        "      satuan = \"rupiah\"\n",
        "    else :\n",
        "      satuan = satuan.lower()\n",
        "\n",
        "    # Normalisasi ke satuan biasa\n",
        "    if satuan == \"jutaan rupiah\":\n",
        "        nilai_final = f\"Rp{jutaan_to_satuan(float(nilai)):,.0f}\"\n",
        "    elif satuan == \"miliaran rupiah\":\n",
        "        nilai_final = f\"Rp{miliar_to_satuan(float(nilai)):,.0f}\"\n",
        "    elif satuan == \"rupiah\":\n",
        "        nilai_final = f\"Rp{float((nilai)):,.0f}\"\n",
        "    elif satuan == \"ribuan usd\":\n",
        "        nilai_final = f\"${ribuan_to_satuan(float(nilai)):,.0f}\"\n",
        "    elif satuan == \"ribuan rupiah\":\n",
        "        nilai_final = f\"Rp{ribuan_to_satuan(float(nilai)):,.0f}\"\n",
        "    elif satuan == \"usd\":\n",
        "        nilai_final = f\"${float(nilai):,.0f}\"\n",
        "    else:\n",
        "        raise ValueError(f\"Satuan {satuan} tidak dikenali.\")\n",
        "    return nilai_final\n",
        "\n",
        "def konversi_mata_uang(nilai, perusahaan, kuartal: str):\n",
        "    satuan = KATEGORI_SATUAN_PERUSAHAAN.get(perusahaan)\n",
        "    nilai_str = str(nilai)\n",
        "    nilai_clean = nilai_str.replace(\"$\", \"\").replace(\".\", \"\").strip().replace(\",\", \"\").strip()\n",
        "    try:\n",
        "      nominal_usd = float(nilai_clean)\n",
        "    except ValueError:\n",
        "      raise ValueError(f\"Nilai USD tidak valid: {nilai}\")\n",
        "    nilai_final = usd_to_rupiah(nominal_usd, kuartal)\n",
        "\n",
        "    return nilai_final"
      ]
    },
    {
      "cell_type": "code",
      "execution_count": 696,
      "metadata": {
        "id": "rS_DJE66w0Go"
      },
      "outputs": [],
      "source": [
        "def find_nilai_tukar(text, marker_pairs, company: Company, kuartal: str):\n",
        "    perusahaan = company.perusahaan\n",
        "    teks_kotor = find_paragraphs_by_marker_pairs(text, marker_pairs, kuartal)\n",
        "    teks_bersih = teks_kotor.replace(\"\\n\", \" \")\n",
        "    company.risiko_nilai_tukar = teks_bersih\n",
        "    print(\"INI KUARTAL:\"+ kuartal)\n",
        "    persen = \"-\"\n",
        "    rupiah = \"Rp0\"\n",
        "\n",
        "    print(\"INI BERHASIL 1\")\n",
        "\n",
        "    if company.perusahaan in [\"WIKA\",\"EMTK\",\"INDF\", \"TBIG\",\"FREN\",\"JPFA\",\"KLBF\",\"MLPL\",\"LSIP\"]:\n",
        "        persen_match = re.search(r\"(\\d+(?:[.,]\\d+)?%)\", teks_bersih, re.IGNORECASE)\n",
        "        persen = persen_match.group(1) if persen_match else \"-\"\n",
        "        rupiah_match = re.search(r\"Rp\\s?([\\d\\.,]+)\", teks_bersih, re.IGNORECASE)\n",
        "        if rupiah_match:\n",
        "            # Konversi ke float dulu, baru pakai fungsi konversi ke rupiah\n",
        "            nilai = float(rupiah_match.group(1).replace(\".\", \"\").replace(\",\", \".\"))\n",
        "            rupiah = standarisasi_nilai(company.perusahaan, nilai)\n",
        "        else:\n",
        "            rupiah = \"Rp0\"\n",
        "        company.perubahan_laba_rugi_turun = rupiah\n",
        "        company.normalisasi_laba_rugi_turun = rupiah\n",
        "        company.normalisasi_laba_rugi_naik = rupiah\n",
        "        print(\"INI BERHASIL 2\")\n",
        "\n",
        "    elif company.perusahaan in [\"BMTR\"]:\n",
        "        persen_match = re.search(r\"(\\d+(?:[.,]\\d+)?%)\", teks_bersih, re.IGNORECASE)\n",
        "        persen = persen_match.group(1) if persen_match else \"-\"\n",
        "        rupiah_match = re.search(r\"(penguatan|pelemahan)\\s*(\\d+%)\\s*\\(?([\\d.]+)\\)?\", teks_bersih, re.IGNORECASE)\n",
        "        if rupiah_match:\n",
        "            nilai_str = rupiah_match.group(3)\n",
        "            nilai = float(nilai_str.replace(\".\", \"\").replace(\",\", \".\"))\n",
        "            rupiah = standarisasi_nilai(perusahaan, nilai)\n",
        "        else:\n",
        "            rupiah = \"Rp0\"\n",
        "        company.perubahan_laba_rugi_turun = rupiah\n",
        "        company.normalisasi_laba_rugi_turun = rupiah\n",
        "        company.normalisasi_laba_rugi_naik = rupiah\n",
        "        print(\"INI BERHASIL 3\")\n",
        "    elif company.perusahaan == \"TLKM\":\n",
        "        # Ambil angka nominal (misal 92) di konteks Dolar A.S.\n",
        "        persen_match = re.search(r\"Dolar A\\.S\\.\\s+\\(penguatan\\s+(\\d+%)\\)\\s+\\(?(-?\\d+[\\.,]?\\d*)\\)?\", teks_bersih, re.IGNORECASE)\n",
        "        persen = persen_match.group(1) if persen_match else \"-\"\n",
        "        nominal_str = persen_match.group(2).replace(\",\", \".\") if persen_match else \"0\"\n",
        "        try:\n",
        "            nominal_float = float(nominal_str)\n",
        "        except ValueError:\n",
        "            nominal_float = 0\n",
        "\n",
        "        rupiah = standarisasi_nilai(company.perusahaan, nominal_float)\n",
        "        company.perubahan_laba_rugi_turun = rupiah\n",
        "        company.normalisasi_laba_rugi_turun = rupiah\n",
        "        company.normalisasi_laba_rugi_naik = rupiah\n",
        "\n",
        "\n",
        "    elif perusahaan in [\"MEDC\", \"TKIM\", \"INDY\", \"BYAN\"]:\n",
        "        persen_match = re.search(r\"(\\d+(?:[.,]\\d+)?%)\", teks_bersih)\n",
        "        persen = persen_match.group(1) if persen_match else \"-\"\n",
        "        rupiah_match = re.search(r\"(?:AS\\$|US\\$|USD|\\$)\\s*([\\d.,]+)\", teks_bersih)\n",
        "        usd_nominal = rupiah_match.group(1) if rupiah_match else \"$0\"\n",
        "        rupiah = f\"${usd_nominal}\"\n",
        "\n",
        "        nominal_rupiah = konversi_mata_uang(usd_nominal, perusahaan, kuartal)\n",
        "        company.perubahan_laba_rugi_turun = rupiah\n",
        "        company.normalisasi_laba_rugi_turun = nominal_rupiah\n",
        "        company.normalisasi_laba_rugi_naik = nominal_rupiah\n",
        "\n",
        "\n",
        "    elif company.perusahaan in [\"INCO\"]:\n",
        "        persen_match = re.search(r\"sebesar\\s+(\\d+(?:[.,]\\d+)?)%\", teks_bersih, re.IGNORECASE)\n",
        "        persen = f\"{persen_match.group(1)}%\" if persen_match else \"-\"\n",
        "\n",
        "        rupiah_match = re.search(r\"(AS\\$[\\d\\.,]+\\s*juta)\", teks_bersih, re.IGNORECASE)\n",
        "        usd_nominal = rupiah_match.group(1) if rupiah_match else \"0\"\n",
        "\n",
        "        nominal_usd = standarisasi_nilai(company.perusahaan, usd_nominal)\n",
        "        rupiah = nominal_usd\n",
        "\n",
        "        nominal_rupiah = konversi_mata_uang(nominal_usd, perusahaan, kuartal)\n",
        "        company.perubahan_laba_rugi_turun = rupiah\n",
        "        company.normalisasi_laba_rugi_turun = nominal_rupiah\n",
        "        company.normalisasi_laba_rugi_naik = nominal_rupiah\n",
        "\n",
        "    elif company.perusahaan in [\"IMAS\", \"LPKR\"]:\n",
        "        persen_match = re.search(r\"(?:sebanyak|by|sebesar)\\s+(\\d+(?:[.,]\\d+)?%)\", teks_bersih, re.IGNORECASE)\n",
        "        persen = persen_match.group(1) if persen_match else \"-\"\n",
        "        rupiah_match = re.search(r\"Rp[\\s\\.]*([\\d\\.,]+)\", teks_bersih, re.IGNORECASE)\n",
        "        rupiah = (\n",
        "          standarisasi_nilai(company.perusahaan, float(rupiah_match.group(1).replace(\".\", \"\").replace(\",\", \".\")))\n",
        "          if rupiah_match\n",
        "          else \"Rp0\"\n",
        "        )\n",
        "        company.perubahan_laba_rugi_turun = rupiah\n",
        "        company.normalisasi_laba_rugi_turun = rupiah\n",
        "        company.normalisasi_laba_rugi_naik = rupiah\n",
        "\n",
        "    elif perusahaan == \"HMSP\":\n",
        "        persen_match = re.search(r\"(Rp\\d+(?:[.,]\\d+)?\\/1USD)\", teks_bersih)\n",
        "        persen = persen_match.group(1) if persen_match else \"-\"\n",
        "        rupiah_match = re.search(r\"Rp\\s*([\\d\\.,]+)\\s*miliar\", teks_bersih, re.IGNORECASE)\n",
        "        if rupiah_match:\n",
        "            angka_str = rupiah_match.group(1).replace(\".\", \"\").replace(\",\", \".\")\n",
        "            try:\n",
        "                nominal = float(angka_str) * 1_000_000_000  # miliar ke satuan\n",
        "                rupiah = standarisasi_nilai(perusahaan, nominal)\n",
        "            except ValueError:\n",
        "                rupiah = \"Rp0\"\n",
        "        company.perubahan_laba_rugi_turun = rupiah\n",
        "        company.normalisasi_laba_rugi_turun = rupiah\n",
        "        company.normalisasi_laba_rugi_naik = rupiah\n",
        "\n",
        "    elif perusahaan in [\"GIAA\",\"INTP\"]:\n",
        "        rupiah_match = re.search(r\"Rupiah\\s+\\d+%\\s+\\(?([\\d,\\.]+)\\)?\", teks_bersih)\n",
        "        persen_match = re.search(r\"(\\d+)%\", teks_bersih)\n",
        "\n",
        "        if rupiah_match:\n",
        "            persen = persen_match.group(1) + \"%\" if persen_match else \"-\"\n",
        "            angka_str = rupiah_match.group(1).replace(\",\", \"\").replace(\".\", \"\")\n",
        "            try:\n",
        "                nominal = float(angka_str)\n",
        "                nominal_idr = konversi_mata_uang(nominal, perusahaan, kuartal)\n",
        "                rupiah = standarisasi_nilai(perusahaan, nominal)\n",
        "                company.normalisasi_laba_rugi_turun = nominal_idr\n",
        "                company.normalisasi_laba_rugi_naik = nominal_idr\n",
        "            except ValueError:\n",
        "                rupiah = \"-\"\n",
        "        else:\n",
        "            rupiah = \"-\"\n",
        "\n",
        "        company.perubahan_laba_rugi_turun = rupiah\n",
        "\n",
        "\n",
        "    elif company.perusahaan == \"SMGR\":\n",
        "        persen_match = re.search(r\"(\\d+(?:[.,]\\d+)?%)\", teks_bersih, re.IGNORECASE)\n",
        "        persen = persen_match.group(1) if persen_match else \"-\"\n",
        "        rupiah_match = re.search(r\"(?:Rp)?\\s?([\\d\\.,]+)\", teks_bersih, re.DOTALL)\n",
        "        rupiah = rupiah_match.group(1) if rupiah_match else \"Rp0\"\n",
        "        company.perubahan_laba_rugi_turun = rupiah\n",
        "        company.normalisasi_laba_rugi_turun = rupiah\n",
        "        company.normalisasi_laba_rugi_naik = rupiah\n",
        "\n",
        "    elif company.perusahaan in [\"MDKA\", \"AALI\"]:\n",
        "        persen_match = re.search(r\"\\d+(?:[.,]\\d+)?%\", teks_bersih)\n",
        "        persen = persen_match.group(0) if persen_match else \"-\"\n",
        "\n",
        "        angka = re.findall(r\"\\d{1,3}(?:[.,]\\d{3})+\", teks_bersih)\n",
        "        if angka:\n",
        "            nominal_usd = float(angka[0].replace(\".\", \"\").replace(\",\", \"\"))\n",
        "            nominal_idr = konversi_mata_uang(nominal_usd, perusahaan, kuartal)\n",
        "            rupiah = standarisasi_nilai(perusahaan, nominal_usd)\n",
        "            company.normalisasi_laba_rugi_turun = nominal_idr\n",
        "            company.normalisasi_laba_rugi_naik = nominal_idr\n",
        "        else:\n",
        "            rupiah = \"-\"\n",
        "        company.perubahan_laba_rugi_turun = rupiah\n",
        "\n",
        "\n",
        "    elif company.perusahaan == \"BHIT\":\n",
        "        persen_match = re.search(r\"Penguatan\\s+(\\d+,\\d+)%\", teks_bersih, re.IGNORECASE)\n",
        "        persen = persen_match.group(1) + \"%\" if persen_match else \"-\"\n",
        "\n",
        "        rupiah_match = re.search(r\"Penguatan\\s+\\d+,\\d+%\\s+([\\d\\.]+)\", teks_bersih, re.IGNORECASE)\n",
        "        rupiah = (\n",
        "            standarisasi_nilai(company.perusahaan, float(rupiah_match.group(1).replace(\".\", \"\")))\n",
        "            if rupiah_match\n",
        "            else \"-\"\n",
        "        )\n",
        "\n",
        "        rupiah_turun_match = re.search(r\"Pelemahan\\s+\\d+,\\d+%\\s+\\(([\\d\\.]+)\\)\", teks_bersih, re.IGNORECASE)\n",
        "        rupiah_turun = (\n",
        "            \"-\" + standarisasi_nilai(company.perusahaan, float(rupiah_turun_match.group(1).replace(\".\", \"\")))\n",
        "            if rupiah_turun_match\n",
        "            else \"-\"\n",
        "        )\n",
        "        company.perubahan_laba_rugi_turun = rupiah_turun\n",
        "        company.normalisasi_laba_rugi_turun = rupiah_turun\n",
        "        company.normalisasi_laba_rugi_naik = rupiah\n",
        "\n",
        "    elif company.perusahaan == \"BSDE\":\n",
        "\n",
        "        matches = re.findall(r\"Rp\\s?([\\d.,]{7,})\", teks_bersih)\n",
        "        rupiah = f\"Rp{matches[0]}\" if matches else \"Rp0\"\n",
        "        company.perubahan_laba_rugi_turun = rupiah\n",
        "        company.normalisasi_laba_rugi_turun = rupiah\n",
        "        company.normalisasi_laba_rugi_naik = rupiah\n",
        "\n",
        "    elif company.perusahaan == \"ISAT\":\n",
        "        persen_match = re.search(r\"(?:Dollar)\\s+(\\d+(?:\\.\\d+)?%)\", teks_bersih, re.IGNORECASE)\n",
        "        persen = persen_match.group(1) if persen_match else \"-\"\n",
        "        laba_rugi_match = re.search(r\"(?:berjalan)\\s*(\\d+(?:[.,]\\d+)?)\", teks_bersih, re.IGNORECASE)\n",
        "        if laba_rugi_match:\n",
        "            nominal_ribuan = float(laba_rugi_match.group(1).replace(\",\", \".\"))\n",
        "            # Konversi ke USD (dalam ribuan) lalu ke IDR real-time\n",
        "            nominal_usd = ribuan_to_satuan(nominal_ribuan)\n",
        "            rupiah =  f\"Rp{nominal_usd}\"\n",
        "            nominal_idr = konversi_mata_uang(nominal_usd,perusahaan, kuartal)\n",
        "            company.normalisasi_laba_rugi_turun = nominal_idr\n",
        "            company.normalisasi_laba_rugi_naik = nominal_idr\n",
        "        else:\n",
        "            rupiah = \"-\"\n",
        "        company.perubahan_laba_rugi_turun = rupiah\n",
        "\n",
        "\n",
        "    elif company.perusahaan == \"WIKA\":\n",
        "        print(\"INI TEKS BERSIH \" + teks_bersih)\n",
        "        persen_match = re.search(r\"(\\d+%)\", teks_bersih)\n",
        "        persen = persen_match.group(1) if persen_match else \"-\"\n",
        "        rupiah_match = re.search(r\"Rp[\\d\\.,]+\", teks_bersih)\n",
        "        if rupiah_match:\n",
        "            rupiah_idr = rupiah_match.group(0).replace('Rp', '').strip().replace(',', '.')\n",
        "            print(\"NILAI ASLI \" + rupiah_idr)\n",
        "            rupiah = standarisasi_nilai(perusahaan, rupiah_idr)\n",
        "            print(\"STANDARISASI NILAI \"+rupiah)\n",
        "            company.normalisasi_laba_rugi_turun = rupiah\n",
        "            print(\"NORMALISASI LABA RUGI TURUN\" + company.normalisasi_laba_rugi_tahun_sebelumnya_turun)\n",
        "            company.normalisasi_laba_rugi_naik = rupiah\n",
        "            print(\"NORMALISASI LABA RUGI NAIK\" + company.normalisasi_laba_rugi_tahun_sebelumnya_naik)\n",
        "        else:\n",
        "            rupiah = \"-\"\n",
        "        company.perubahan_laba_rugi_turun = rupiah\n",
        "\n",
        "\n",
        "    elif company.perusahaan in [\"ADRO\",\"ITMG\"]:\n",
        "        # Ambil persen\n",
        "        persen_match = re.search(r\"(\\d+(?:\\.\\d+)?%)\", teks_bersih)\n",
        "        persen = persen_match.group(1) if persen_match else \"-\"\n",
        "\n",
        "        # Ambil nilai 'lebih rendah' dalam ribuan USD\n",
        "        rupiah_turun_match = re.search(r\"lebih rendah\\s*AS\\$([\\d\\.,]+)\", teks_bersih, re.IGNORECASE)\n",
        "        if rupiah_turun_match:\n",
        "            nominal_ribuan = float(rupiah_turun_match.group(1).replace(\",\", \"\").replace(\".\", \".\"))\n",
        "            nominal_usd = standarisasi_nilai(perusahaan, nominal_ribuan)\n",
        "            rupiah_turun = nominal_usd\n",
        "            nominal_idr = konversi_mata_uang(nominal_usd,perusahaan,  kuartal)  # konversi ke IDR\n",
        "            company.normalisasi_laba_rugi_turun = nominal_idr\n",
        "        else:\n",
        "            rupiah_turun = \"-\"\n",
        "\n",
        "        # Ambil nilai 'lebih tinggi' dalam ribuan USD\n",
        "        rupiah_naik_match = re.search(r\"lebih tinggi\\s*AS\\$([\\d\\.,]+)\", teks_bersih, re.IGNORECASE)\n",
        "        if rupiah_naik_match:\n",
        "            nominal_ribuan = float(rupiah_naik_match.group(1).replace(\",\", \"\").replace(\".\", \".\"))\n",
        "            nominal_usd = standarisasi_nilai(perusahaan, nominal_ribuan)\n",
        "            rupiah = nominal_usd\n",
        "            nominal_idr = konversi_mata_uang(nominal_usd,perusahaan,kuartal)\n",
        "            company.normalisasi_laba_rugi_naik = nominal_idr\n",
        "        else:\n",
        "            rupiah = \"-\"\n",
        "\n",
        "        company.perubahan_laba_rugi_turun = rupiah_turun\n",
        "\n",
        "\n",
        "    elif company.perusahaan == \"PGAS\":\n",
        "        persen_match = re.search(r\"(\\d+\\s*basis\\s*point)\", teks_bersih, re.IGNORECASE)\n",
        "        persen = persen_match.group(1) if persen_match else \"-\"\n",
        "        print(\"INI PERSEN: \"+persen)\n",
        "\n",
        "        # rupiah naik\n",
        "        rupiah_naik_match = re.search(r\"by\\s*USD\\s*([\\d.,]+)\", teks_bersih, re.IGNORECASE)\n",
        "        if rupiah_naik_match:\n",
        "            nominal_usd = float(rupiah_naik_match.group(1).replace(\",\", \"\"))\n",
        "            print(\"INI NOMINAL USD: \"+str(nominal_usd))\n",
        "            nominal_usd_standarisasi = standarisasi_nilai(perusahaan, nominal_usd)\n",
        "            print(\"INI NOMINAL USD STANDARISASI: \"+nominal_usd_standarisasi)\n",
        "            rupiah = nominal_usd_standarisasi\n",
        "            nominal_idr = konversi_mata_uang(nominal_usd_standarisasi,perusahaan,  kuartal)  # konversi ke IDR\n",
        "            company.normalisasi_laba_rugi_naik = nominal_idr\n",
        "        else:\n",
        "            rupiah = \"-\"\n",
        "\n",
        "\n",
        "        # rupiah turun\n",
        "        rupiah_turun_match = re.search(r\"\\(USD\\s*([\\d.,]+)\\)\", teks_bersih, re.IGNORECASE)\n",
        "        if rupiah_turun_match:\n",
        "            nominal_usd = float(rupiah_turun_match.group(1).replace(\",\", \"\"))\n",
        "            print(\"INI NOMINAL USD TURUN: \"+str(nominal_usd))\n",
        "            nominal_usd_standarisasi = standarisasi_nilai(perusahaan, nominal_usd)\n",
        "            print(\"INI NOMINAL USD STANDARISASI TURUN: \"+nominal_usd_standarisasi)\n",
        "            rupiah_turun = nominal_usd_standarisasi\n",
        "            nominal_idr = konversi_mata_uang(nominal_usd_standarisasi,perusahaan,  kuartal)    # konversi ke IDR\n",
        "            company.normalisasi_laba_rugi_turun = nominal_idr\n",
        "        else:\n",
        "            rupiah_turun = \"-\"\n",
        "\n",
        "        company.perubahan_laba_rugi_turun = rupiah_turun\n",
        "\n",
        "    elif company.perusahaan in [\"EXCL\", \"SMAR\"]:\n",
        "        persen_match = re.search(r\"(\\d+(?:\\.\\d+)?%)\", teks_bersih)\n",
        "        persen = persen_match.group(1) if persen_match else \"-\"\n",
        "        rupiah_match = re.search(r\"Rp\\s?([\\d\\.,]+)\\s+dan\\s+Rp\\s?([\\d\\.,]+)\", teks_bersih, re.IGNORECASE)\n",
        "        if rupiah_match:\n",
        "            # Ubah string ke float (ganti koma dengan titik)\n",
        "            nilai_turun = float(rupiah_match.group(1).replace(\".\", \"\").replace(\",\", \".\"))\n",
        "            nilai_naik = float(rupiah_match.group(2).replace(\".\", \"\").replace(\",\", \".\"))\n",
        "            rupiah_turun = standarisasi_nilai(company.perusahaan,  nilai_turun)\n",
        "            rupiah = standarisasi_nilai(company.perusahaan, nilai_naik)\n",
        "\n",
        "        else:\n",
        "            rupiah_turun = \"Rp 0\"\n",
        "            rupiah = \"Rp 0\"\n",
        "        company.perubahan_laba_rugi_turun = rupiah_turun\n",
        "        company.normalisasi_laba_rugi_turun = rupiah_turun\n",
        "        company.normalisasi_laba_rugi_naik = rupiah\n",
        "\n",
        "    elif company.perusahaan == \"PWON\" :\n",
        "        persen_match = re.search(r\"(\\d+(?:\\.\\d+)?%)\", teks_bersih)\n",
        "        persen = persen_match.group(1) if persen_match else \"-\"\n",
        "        rupiah_match = re.search(r\"Laba\\s*rugi\\s+([\\d,.]+)\", teks_bersih, re.IGNORECASE)\n",
        "        if rupiah_match:\n",
        "            nilai_turun = float(rupiah_match.group(1).replace(\".\", \"\").replace(\",\", \".\"))\n",
        "            print(\"INI NILAI TURUN: \"+str(nilai_turun))\n",
        "            nilai_naik = float(rupiah_match.group(2).replace(\".\", \"\").replace(\",\", \".\"))\n",
        "            print(\"INI NILAI NAIK: \"+str(nilai_naik))\n",
        "            rupiah_turun = standarisasi_nilai(company.perusahaan,  nilai_turun)\n",
        "            print(\"INI RUPIAH TURUN: \"+rupiah_turun)\n",
        "            rupiah = standarisasi_nilai(company.perusahaan, nilai_naik)\n",
        "\n",
        "        else:\n",
        "            rupiah = \"-\"\n",
        "        company.perubahan_laba_rugi_turun = rupiah_turun\n",
        "        company.normalisasi_laba_rugi_turun = rupiah_turun\n",
        "        company.normalisasi_laba_rugi_naik = rupiah\n",
        "\n",
        "    elif perusahaan in [\"AMRT\",\"INTP\"]:\n",
        "        print(\"INI BERHASIL 5\")\n",
        "        persen_match = re.search(r\"Rupiah\\s+[+-]?(\\d+)\\s+[(-]?\\d+\", teks_bersih)\n",
        "        persen = persen_match.group(1) if persen_match else \"-\"\n",
        "\n",
        "        # Tangkap nilai naik dan turun\n",
        "        naik_match = re.search(r\"Rupiah\\s*\\+\\d+\\s*\\(?(-?\\d+)\\)?\", teks_bersih)\n",
        "        turun_match = re.search(r\"Rupiah\\s*-\\d+\\s*\\(?(-?\\d+)\\)?\", teks_bersih)\n",
        "\n",
        "        nilai_naik = int(naik_match.group(1).replace(\",\", \"\").replace(\".\", \"\")) if naik_match else 0\n",
        "        nilai_turun = int(turun_match.group(1).replace(\",\", \"\").replace(\".\", \"\")) if turun_match else 0\n",
        "\n",
        "        # Tambahkan tanda negatif jika ada tanda kurung\n",
        "        if naik_match and \"(\" in naik_match.group(0):\n",
        "            nilai_naik *= -1\n",
        "        if turun_match and \"(\" in turun_match.group(0):\n",
        "            nilai_turun *= -1\n",
        "\n",
        "        # Konversi nilai ke format standarisasi jika perlu\n",
        "        rupiah_naik = standarisasi_nilai(perusahaan, nilai_naik)\n",
        "        rupiah_turun = standarisasi_nilai(perusahaan, nilai_turun)\n",
        "\n",
        "        company.perubahan_laba_rugi_turun = rupiah_turun\n",
        "        company.normalisasi_laba_rugi_turun = rupiah_turun\n",
        "        company.normalisasi_laba_rugi_naik = rupiah_naik\n",
        "\n",
        "    elif perusahaan in [\"JPFA\",\"KLBF\",\"BIPI\",\"ASRI\",\"CMNP\",\"SMCB\"] :\n",
        "      persen_match = re.search(r\"(Rupiah\\s+[+-]?\\d+\\s+[(-]?\\d+)|(\\d+(?:\\.\\d+)?%)\", teks_bersih)\n",
        "      persen = persen_match.group(1) if persen_match else \"-\"\n",
        "\n",
        "      if perusahaan == \"ASRI\" :\n",
        "\n",
        "          # Ambil nilai 'lebih rendah sebesar Rp ...'\n",
        "        turun_match = re.search(r\"lebih rendah.*?Rp\\s*([\\d.]+)\", teks_bersih, re.IGNORECASE)\n",
        "        nilai_turun = int(turun_match.group(1).replace(\".\", \"\")) if turun_match else 0\n",
        "\n",
        "        # Ambil nilai 'lebih tinggi.*?sebesar Rp ...'\n",
        "        naik_match = re.search(r\"lebih tinggi.*?sebesar Rp\\s*([\\d.]+)\", teks_bersih, re.IGNORECASE)\n",
        "        nilai_naik = int(naik_match.group(1).replace(\".\", \"\")) if naik_match else 0\n",
        "\n",
        "      elif perusahaan in [\"AMRT\",\"BIPI\"] :\n",
        "          naik_match = re.search(r\"Rp meningkat sebesar\\s+\\d+%\\s+(\\(?[\\d.]+\\)?)\", teks_bersih, flags=re.IGNORECASE)\n",
        "          if naik_match:\n",
        "              raw_naik = naik_match.group(1)\n",
        "              nilai_naik = int(raw_naik.replace(\".\", \"\").replace(\"(\", \"\").replace(\")\", \"\"))\n",
        "              if \"(\" in raw_naik:\n",
        "                  nilai_naik *= -1\n",
        "          else:\n",
        "              nilai_naik = None\n",
        "\n",
        "          turun_match = re.search(r\"Rp menurun sebesar\\s+\\d+%\\s+(\\(?[\\d.]+\\)?)\", teks_bersih, flags=re.IGNORECASE)\n",
        "          if turun_match:\n",
        "              raw_turun = turun_match.group(1)\n",
        "              nilai_turun = int(raw_turun.replace(\".\", \"\").replace(\"(\", \"\").replace(\")\", \"\"))\n",
        "              if \"(\" in raw_turun:\n",
        "                  nilai_turun *= -1\n",
        "          else:\n",
        "              nilai_turun = None\n",
        "\n",
        "      elif perusahaan == \"CMNP\" :\n",
        "          match = re.search(r\"1\\s+Dolar\\s+Amerika\\s+Serikat\\s*\\(US\\$?\\)\\s+([\\d.,]+)\", teks_bersih, re.IGNORECASE)\n",
        "          if match:\n",
        "              nilai_naik = match.group(1).replace(\".\", \"\").replace(\",\", \".\")\n",
        "              nilai_turun = nilai_naik\n",
        "\n",
        "\n",
        "      elif perusahaan in [\"SMCB\",\"MDLN\"] :\n",
        "        # Cari baris yang mengandung \"Dolar AS - Rupiah\"\n",
        "        if perusahaan == \"SMCB\" :\n",
        "          match1 = re.search(r'Dolar AS - Rupiah\\s+(\\d+\\.\\d+%)\\s+\\d+\\.\\d+%\\s+(\\(?[\\d.,]+\\)?)', teks_bersih)\n",
        "        else :\n",
        "          match1 = re.search(r'menurun\\s+(\\d+%)\\D+?(\\d{1,3}(?:[.]\\d{3})+)', teks_bersih)\n",
        "\n",
        "        if match1:\n",
        "            persen = match1.group(1)\n",
        "            nilai_naik = match1.group(2)\n",
        "            nilai_turun = nilai_naik  # anggap sama dulu\n",
        "            print(\"INI BERHASIL\")\n",
        "        else:\n",
        "            persen = \"-\"\n",
        "            nilai_naik = \"-\"\n",
        "            nilai_turun = \"=\"\n",
        "            print(\"INI GAGAL\")\n",
        "\n",
        "\n",
        "      rupiah_naik = standarisasi_nilai(perusahaan, int(nilai_naik))\n",
        "      rupiah_turun = standarisasi_nilai(perusahaan, int(nilai_turun))\n",
        "      rupiah = rupiah_naik\n",
        "      company.perubahan_laba_rugi_turun = rupiah_turun\n",
        "      company.normalisasi_laba_rugi_turun = rupiah_turun\n",
        "      company.normalisasi_laba_rugi_naik = rupiah_naik\n",
        "\n",
        "    company.satuan_nilai_tukar = persen\n",
        "    company.perubahan_laba_rugi_naik = rupiah\n",
        "\n"
      ]
    },
    {
      "cell_type": "code",
      "execution_count": 697,
      "metadata": {
        "id": "qqkZJnkFqUlQ"
      },
      "outputs": [],
      "source": [
        "def cek_fungsi(teks_bersih, perusahaan, kuartal):\n",
        "    # Cari baris yang mengandung \"Dolar AS - Rupiah\"\n",
        "    match = re.search(r'Dolar AS - Rupiah\\s+(\\d+\\.\\d+%)\\s+\\d+\\.\\d+%\\s+(\\(?[\\d.,]+\\)?)', teks_bersih)\n",
        "\n",
        "    if match:\n",
        "        # persen = match.group(1)\n",
        "        nilai_naik = match.group(2)\n",
        "        nilai_turun = nilai_naik  # anggap sama dulu\n",
        "    else:\n",
        "        persen = \"-\"\n",
        "        nilai_naik = \"-\"\n",
        "        nilai_turun = \"=\"\n",
        "\n",
        "    # Konversi nilai ke rupiah menggunakan fungsi standarisasi_nilai\n",
        "    rupiah_naik = standarisasi_nilai(perusahaan, nilai_naik)\n",
        "    rupiah_turun = standarisasi_nilai(perusahaan, nilai_turun)\n",
        "\n",
        "    # print(\"PERSEN \" + persen)\n",
        "    print(\"NILAI NAIK \" + rupiah_naik)\n",
        "    print(\"NILAI TURUN \" + rupiah_turun)\n"
      ]
    },
    {
      "cell_type": "code",
      "source": [
        "teks_bersih =\"\"\"\"\n",
        "ii.  Foreign exchange risk management             Tabel berikut menunjukkan sensitivitas atas  perubahan yang wajar dari nilai tukar Dolar  AS dan Euro terhadap Rupiah, dimana  semua variabel lain konstan, yang timbul dari  aset dan liabilitas dalam Dolar AS dan Euro  terhadap laba sebelum beban pajak untuk  periode  yang  berakhir  pada  tanggal  31 Maret 2024 dan 2023:  The following table demonstrates the sensitivity  to plausible changes in US Dollar and Euro  exchange rates against Rupiah, with all other  variables held constant, arising from the US  Dollar and Euro denominated assets and  liabilities, to the profit before tax for the periods  ended March 31, 2024 and 2023:          Persentase kenaikan (penurunan)/     Efek terhadap laba sebelum pajak/      Increase (decrease) in percentage     Effect on profit before tax        2024     2023     2024     2023            Dolar AS - Rupiah      1.00%     1.00%     1,017      408    US Dollar - Rupiah         -1.00%     -1.00%     (1,017)     (408)      Euro - Rupiah      1.00%     1.00%     (1,021)                          (1,076)  Euro - Rupiah         -1.00%     -1.00%      1,021                            1,076    Aset dan liabilitas moneter yang signifikan  dari Grup dalam mata uang asing pada  tanggal 31 Maret 2024 disajikan pada  Catatan 36.  The Group’s significant monetary assets and  liabilities denominated in foreign currencies as  of March 31, 2024 are presented in Note 36.      Grup hanya melakukan kontrak instrumen  keuangan  derivatif  untuk  melindungi  eksposur yang mendasarinya (“underlying”).  Instrumen keuangan derivatif diukur sebesar  nilai wajarnya.  The Group only enters into derivative financial  instrument  contracts  in  order  to  hedge  underlying  exposures.  Derivative  financial  instruments are recognised at their fair values.      Grup mengikuti Peraturan Bank Indonesia  (“PBI”)  untuk  melakukan  lindung  nilai  terhadap eksposur nilai tukar mata uang  asing selama satu tahun.  The Group follows Bank Indonesia Regulation  (“PBI”) to hedge foreign exchange exposure for  a year.               PT SOLUSI BANGUN INDONESIA TBK  DAN ENTITAS ANAK/AND SUBSIDIARIES    Lampiran 5/77 Schedule    CATATAN ATAS LAPORAN KEUANGAN   KONSOLIDASIAN INTERIM  TANGGAL 31 MARET 2024 DAN 31 DESEMBER 2023  SERTA UNTUK PERIODE TIGA BULAN YANG   BERAKHIR 31 MARET 2024 DAN 2023  (Disajikan dalam jutaan Rupiah,  kecuali dinyatakan lain)  NOTES TO THE INTERIM CONSOLIDATED  FINANCIAL STATEMENTS AS OF MARCH 31, 2024 AND DECEMBER 31, 2023   AND FOR THE THREE-MONTH PERIODS ENDED  MARCH 31, 2024 AND 2023  (Expressed in millions of Rupiah,  unless otherwise stated)       37. INSTRUMEN KEUANGAN, MANAJEMEN RISIKO  KEUANGAN DAN RISIKO MODAL (lanjutan)  37. FINANCIAL INSTRUMENTS, FINANCIAL RISK AND  CAPITAL RISK MANAGEMENT (continued)      b. Tujuan dan kebijakan manajemen risiko  keuangan (lanjutan)  b. Financial risk management objectives and  policies (continued)      iii.\"\"\"\n",
        "\n",
        "cek_fungsi(teks_bersih,\"SMCB\",\"2024-Q3\")"
      ],
      "metadata": {
        "colab": {
          "base_uri": "https://localhost:8080/"
        },
        "id": "ZYMiJ2fYQt3W",
        "outputId": "3f5d003f-99e4-4cad-94f6-9594f667fde1"
      },
      "execution_count": 698,
      "outputs": [
        {
          "output_type": "stream",
          "name": "stdout",
          "text": [
            "NILAI NAIK Rp1,017,000,000\n",
            "NILAI TURUN Rp1,017,000,000\n"
          ]
        }
      ]
    },
    {
      "cell_type": "code",
      "execution_count": 699,
      "metadata": {
        "id": "OQ1CdQZMr3qh"
      },
      "outputs": [],
      "source": [
        "def cari_match_perubahan_satuan_nilai_tukar(teks):\n",
        "    pola_persen = [\n",
        "        r\"(\\d+(?:[.,]\\d+)?%)\",\n",
        "        r\"Dolar A\\.S\\.\\s+\\(penguatan\\s+(\\d+%)\\)\\s+\\(?(-?\\d+[\\.,]?\\d*)\\)?\",\n",
        "        r\"(\\d+\\s*basis\\s*point)\"\n",
        "    ]\n",
        "\n",
        "    for pola in pola_persen:\n",
        "        match = re.search(pola, teks, re.IGNORECASE)\n",
        "        if match:\n",
        "            return match.group(1)\n",
        "    return \"-\""
      ]
    },
    {
      "cell_type": "markdown",
      "metadata": {
        "id": "jyghwpLXmZX3"
      },
      "source": [
        "### Ekstraksi semua info"
      ]
    },
    {
      "cell_type": "code",
      "execution_count": 700,
      "metadata": {
        "id": "dkdhbo4nyBhq"
      },
      "outputs": [],
      "source": [
        "def count_elastisity(company_obj: dict):\n",
        "    print(company_obj)\n",
        "    def bersihkan_angka(nilai_str):\n",
        "      if not nilai_str or nilai_str == \"-\":\n",
        "          return None\n",
        "      if isinstance(nilai_str, (int, float)):\n",
        "          return float(nilai_str)\n",
        "\n",
        "      # Bersihkan titik ribuan dan karakter non-numeric\n",
        "      cleaned = (\n",
        "          str(nilai_str)\n",
        "          .replace(\"Rp\", \"\")\n",
        "          .replace(\",\", \"\")\n",
        "          .replace(\"%\", \"\")\n",
        "          .replace(\".\", \"\")  # hapus titik ribuan\n",
        "          .strip()\n",
        "      )\n",
        "\n",
        "      # Jika setelah dibersihkan bukan angka valid, tangani error\n",
        "      try:\n",
        "          return float(cleaned)\n",
        "      except ValueError:\n",
        "          print(f\"[!] Tidak bisa konversi ke float: '{nilai_str}' -> '{cleaned}'\")\n",
        "          return None\n",
        "\n",
        "    persen_perubahan_nilai_tukar = bersihkan_angka(company_obj.get(\"satuan_nilai_tukar\", \"-\"))\n",
        "    laba_rugi_naik_after = bersihkan_angka(company_obj.get(\"normalisasi_laba_rugi_naik\", \"-\"))\n",
        "    laba_rugi_naik_before = bersihkan_angka(company_obj.get(\"normalisasi_laba_rugi_tahun_sebelumnya_naik\", \"-\"))\n",
        "    laba_rugi_turun_after = bersihkan_angka(company_obj.get(\"normalisasi_laba_rugi_turun\", \"-\"))\n",
        "    laba_rugi_turun_before = bersihkan_angka(company_obj.get(\"normalisasi_laba_rugi_tahun_sebelumnya_turun\", \"-\"))\n",
        "\n",
        "    print (f\"Persen perubahan nilai tukar: {persen_perubahan_nilai_tukar}\")\n",
        "    print (f\"Laba rugi naik setelah: {laba_rugi_naik_after}\")\n",
        "    print (f\"Laba rugi naik sebelum: {laba_rugi_naik_before}\")\n",
        "    print (f\"Laba rugi turun setelah: {laba_rugi_turun_after}\")\n",
        "    print (f\"Laba rugi turun sebelum: {laba_rugi_turun_before}\")\n",
        "\n",
        "    try:\n",
        "        perubahan_laba_rugi_naik = laba_rugi_naik_after - laba_rugi_naik_before\n",
        "        perubahan_laba_rugi_turun = laba_rugi_turun_after - laba_rugi_turun_before\n",
        "\n",
        "        perubahan_persen_laba_rugi_naik = (perubahan_laba_rugi_naik / abs(laba_rugi_naik_after)) * 100\n",
        "        perubahan_persen_laba_rugi_turun = (perubahan_laba_rugi_turun / abs(laba_rugi_turun_after)) * 100\n",
        "\n",
        "        elastisitas_naik = round(persen_perubahan_nilai_tukar / perubahan_persen_laba_rugi_naik, 4)\n",
        "        elastisitas_turun = round(persen_perubahan_nilai_tukar / perubahan_persen_laba_rugi_turun, 4)\n",
        "\n",
        "        return elastisitas_naik, elastisitas_turun\n",
        "\n",
        "    except Exception as e:\n",
        "        print(f\"Error menghitung elastisitas: {e}\")\n",
        "        return \"-\", \"-\""
      ]
    },
    {
      "cell_type": "code",
      "execution_count": 701,
      "metadata": {
        "id": "YQ8aM9TDAoRN"
      },
      "outputs": [],
      "source": [
        "# Reset data supaya fresh sebelum mulai batch baru\n",
        "all_results_dicts_dinamis.clear()\n",
        "benchmark_data.clear()"
      ]
    },
    {
      "cell_type": "code",
      "execution_count": 675,
      "metadata": {
        "colab": {
          "base_uri": "https://localhost:8080/"
        },
        "id": "0Nmdj7lkDWHO",
        "outputId": "865ca22e-b10a-4f18-8fe8-f647c4d8d0d1"
      },
      "outputs": [
        {
          "output_type": "stream",
          "name": "stdout",
          "text": [
            "\n",
            "🚀 Mulai Batch 1: ['SMCB']\n",
            "[⚠️] File tidak ditemukan: /content/drive/MyDrive/IDX_CALK_FX_SB_82/SMCB/SMCB-2021-Q1.pdf\n",
            "[⚠️] File tidak ditemukan: /content/drive/MyDrive/IDX_CALK_FX_SB_82/SMCB/SMCB-2021-Q2.pdf\n",
            "[⚠️] File tidak ditemukan: /content/drive/MyDrive/IDX_CALK_FX_SB_82/SMCB/SMCB-2021-Q3.pdf\n",
            "[⚠️] File tidak ditemukan: /content/drive/MyDrive/IDX_CALK_FX_SB_82/SMCB/SMCB-2021-Q4.pdf\n",
            "[⚠️] File tidak ditemukan: /content/drive/MyDrive/IDX_CALK_FX_SB_82/SMCB/SMCB-2022-Q1.pdf\n",
            "[⚠️] File tidak ditemukan: /content/drive/MyDrive/IDX_CALK_FX_SB_82/SMCB/SMCB-2022-Q3.pdf\n",
            "[⚠️] File tidak ditemukan: /content/drive/MyDrive/IDX_CALK_FX_SB_82/SMCB/SMCB-2022-Q2.pdf\n",
            "[⚠️] File tidak ditemukan: /content/drive/MyDrive/IDX_CALK_FX_SB_82/SMCB/SMCB-2022-Q4.pdf\n",
            "[⚠️] File tidak ditemukan: /content/drive/MyDrive/IDX_CALK_FX_SB_82/SMCB/SMCB-2023-Q1.pdf\n",
            "\n",
            "🔍 Memproses: SMCB - 2023-Q2\n",
            "\n",
            "🔍 Memproses: SMCB - 2023-Q3\n",
            "INI KUARTAL:2023-Q2\n",
            "INI BERHASIL 1\n",
            "INI BERHASIL\n",
            "[⚠️] Error pada SMCB-2023-Q2: invalid literal for int() with base 10: '1,079'\n",
            "[⚠️] File tidak ditemukan: /content/drive/MyDrive/IDX_CALK_FX_SB_82/SMCB/SMCB-2023-Q4.pdf\n",
            "\n",
            "🔍 Memproses: SMCB - 2024-Q1\n",
            "INI KUARTAL:2023-Q3\n",
            "INI BERHASIL 1\n",
            "INI BERHASIL\n",
            "[❗] Start marker tidak ditemukan di 2023-Q3: Jika suku bunga telah\n",
            "\n",
            "✅ 2023-Q3-SMCB berhasil diproses dalam 1.38 detik.\n",
            "\n",
            "🔍 Memproses: SMCB - 2024-Q2\n",
            "INI KUARTAL:2024-Q2\n",
            "INI BERHASIL 1\n",
            "INI BERHASIL\n",
            "INI KUARTAL:2024-Q1\n",
            "INI BERHASIL 1\n",
            "INI BERHASIL\n",
            "[⚠️] Error pada SMCB-2024-Q1: invalid literal for int() with base 10: '1,017'\n",
            "\n",
            "✅ 2024-Q2-SMCB berhasil diproses dalam 3.94 detik.\n",
            "[⚠️] File tidak ditemukan: /content/drive/MyDrive/IDX_CALK_FX_SB_82/SMCB/SMCB-2024-Q4.pdf\n",
            "[⚠️] File tidak ditemukan: /content/drive/MyDrive/IDX_CALK_FX_SB_82/SMCB/SMCB-2025-Q1.pdf\n",
            "[⚠️] File tidak ditemukan: /content/drive/MyDrive/IDX_CALK_FX_SB_82/SMCB/SMCB-2025-Q2.pdf\n",
            "\n",
            "🔍 Memproses: SMCB - 2024-Q3\n",
            "[⚠️] File tidak ditemukan: /content/drive/MyDrive/IDX_CALK_FX_SB_82/SMCB/SMCB-2025-Q3.pdf\n",
            "[⚠️] File tidak ditemukan: /content/drive/MyDrive/IDX_CALK_FX_SB_82/SMCB/SMCB-2025-Q4.pdf\n",
            "INI KUARTAL:2024-Q3\n",
            "INI BERHASIL 1\n",
            "INI BERHASIL\n",
            "[⚠️] Error pada SMCB-2024-Q3: invalid literal for int() with base 10: '(149)'\n",
            "{'kuartal': '2023-Q3', 'perusahaan': 'SMCB', 'satuan_nilai_tukar': '1.00%', 'perubahan_laba_rugi_naik': 'Rp912,000,000', 'perubahan_laba_rugi_turun': 'Rp912,000,000', 'normalisasi_laba_rugi_naik': 'Rp912,000,000', 'normalisasi_laba_rugi_turun': 'Rp912,000,000', 'normalisasi_laba_rugi_tahun_sebelumnya_naik': '-', 'normalisasi_laba_rugi_tahun_sebelumnya_turun': '-', 'risiko_nilai_tukar': 'ii. Foreign exchange risk management     Tabel berikut menunjukkan sensitivitas atas  perubahan yang wajar dari nilai tukar Dolar AS  dan Euro terhadap Rupiah, dimana semua  variabel lain konstan, yang timbul dari aset dan  liabilitas dalam Dolar AS dan Euro terhadap  laba sebelum beban pajak untuk periode yang  berakhir pada tanggal 30 September 2023 dan  2022:  The  following  table  demonstrates  the  sensitivity to plausible changes in US Dollar  and Euro exchange rates against Rupiah, with  all other variables held constant, arising from  the US Dollar and Euro denominated assets and liabilities, to the profit before tax for the  periods ended September 30, 2023 and 2022:       Persentase kenaikan (penurunan)/     Efek terhadap laba sebelum pajak/      Increase (decrease) in percentage     Effect on profit before tax        2023     2022     2023     2022            Dolar AS - Rupiah      1.00%     1.00%     912      552  US Dollar - Rupiah         -1.00%     -1.00%     (912)     (552)      Euro - Rupiah      1.00%     1.00%     (1,240)                             (908)  Euro - Rupiah         -1.00%     -1.00%      1,240                               908    Aset dan liabilitas moneter yang signifikan dari  Grup dalam mata uang asing pada tanggal  30 September 2023 disajikan pada Catatan 36. The Group’s significant monetary assets and  liabilities denominated in foreign currencies as of September 30, 2023 are presented in  Note 36.   Grup hanya melakukan kontrak instrumen  keuangan derivatif untuk melindungi eksposur  yang mendasarinya (“underlying”). Instrumen  keuangan  derivatif  diukur  sebesar  nilai  wajarnya.  The Group only enters into derivative financial  instrument contracts in order to hedge  underlying exposures. Derivative financial  instruments are recognised at their fair values.     Grup mengikuti Peraturan Bank Indonesia  (“PBI”) untuk melakukan lindung nilai terhadap  eksposur nilai tukar mata uang asing selama  satu tahun.  The Group follows Bank Indonesia Regulation  (“PBI”) to hedge foreign exchange exposure for  a year.     iii.', 'risiko_suku_bunga': '-', 'satuan': 'jutaan Rupiah', 'elastisitas_naik': '-', 'elastisitas_turun': '-'}\n",
            "Persen perubahan nilai tukar: 100.0\n",
            "Laba rugi naik setelah: 912000000.0\n",
            "Laba rugi naik sebelum: None\n",
            "Laba rugi turun setelah: 912000000.0\n",
            "Laba rugi turun sebelum: None\n",
            "Error menghitung elastisitas: unsupported operand type(s) for -: 'float' and 'NoneType'\n",
            "Elastisitas naik: -\n",
            "Elastisitas turun: -\n",
            "{'kuartal': '2024-Q2', 'perusahaan': 'SMCB', 'satuan_nilai_tukar': '1.00%', 'perubahan_laba_rugi_naik': 'Rp305,000,000', 'perubahan_laba_rugi_turun': 'Rp305,000,000', 'normalisasi_laba_rugi_naik': 'Rp305,000,000', 'normalisasi_laba_rugi_turun': 'Rp305,000,000', 'normalisasi_laba_rugi_tahun_sebelumnya_naik': '-', 'normalisasi_laba_rugi_tahun_sebelumnya_turun': '-', 'risiko_nilai_tukar': 'ii.  Foreign exchange risk management             Tabel berikut menunjukkan sensitivitas atas  perubahan yang wajar dari nilai tukar Dolar  AS dan Euro terhadap Rupiah, dimana  semua variabel lain konstan, yang timbul dari  aset dan liabilitas dalam Dolar AS dan Euro  terhadap laba sebelum beban pajak untuk  periode  yang  berakhir  pada  tanggal  30 Juni 2024 dan 2023:  The following table demonstrates the sensitivity  to plausible changes in US Dollar and Euro  exchange rates against Rupiah, with all other  variables held constant, arising from the US  Dollar and Euro denominated assets and  liabilities, to the profit before tax for the periods  ended June 30, 2024 and 2023:          Persentase kenaikan (penurunan)/     Efek terhadap laba sebelum pajak/      Increase (decrease) in percentage     Effect on profit before tax        2024     2023     2024     2023            Dolar AS - Rupiah      1.00%     1.00%     305      1,079    US Dollar - Rupiah         -1.00%     -1.00%     (305)     (1,079)      Euro - Rupiah      1.00%     1.00%     (1,515)                          (1,507)  Euro - Rupiah         -1.00%     -1.00%                        1,515             1,507    Aset dan liabilitas moneter yang signifikan  dari Grup dalam mata uang asing pada  tanggal 30 Juni 2024 disajikan pada Catatan  36.  The Group’s significant monetary assets and  liabilities denominated in foreign currencies as  of June 30, 2024 are presented in Note 36.      Grup hanya melakukan kontrak instrumen  keuangan  derivatif  untuk  melindungi  eksposur yang mendasarinya (“underlying”).  Instrumen keuangan derivatif diukur sebesar  nilai wajarnya.  The Group only enters into derivative financial  instrument  contracts  in  order  to  hedge  underlying  exposures.  Derivative  financial  instruments are recognised at their fair values.      Grup mengikuti Peraturan Bank Indonesia  (“PBI”)  untuk  melakukan  lindung  nilai  terhadap eksposur nilai tukar mata uang  asing selama satu tahun.  The Group follows Bank Indonesia Regulation  (“PBI”) to hedge foreign exchange exposure for  a year.               PT SOLUSI BANGUN INDONESIA TBK  DAN ENTITAS ANAK/AND SUBSIDIARIES    Lampiran 5/77 Schedule    CATATAN ATAS LAPORAN KEUANGAN   KONSOLIDASIAN INTERIM  TANGGAL 30 JUNI 2024 DAN 31 DESEMBER 2023  SERTA UNTUK PERIODE ENAM BULAN YANG   BERAKHIR 30 JUNI 2024 DAN 2023  (Disajikan dalam jutaan Rupiah,  kecuali dinyatakan lain)  NOTES TO THE INTERIM CONSOLIDATED   FINANCIAL STATEMENTS  AS OF JUNE 30, 2024 AND DECEMBER 31, 2023   AND FOR THE SIX-MONTH PERIODS ENDED  JUNE 30, 2024 AND 2023  (Expressed in millions of Rupiah,  unless otherwise stated)       37. INSTRUMEN KEUANGAN, MANAJEMEN RISIKO  KEUANGAN DAN RISIKO MODAL (lanjutan)  37. FINANCIAL INSTRUMENTS, FINANCIAL RISK AND  CAPITAL RISK MANAGEMENT (continued)      b. Tujuan dan kebijakan manajemen risiko  keuangan (lanjutan)  b. Financial risk management objectives and  policies (continued)      iii.', 'risiko_suku_bunga': '50 basis poin  lebih  tinggi/lebih  rendah  dan  semua  variabel  lainnya  dipertahankan  tetap,  laba sebelum pajak Grup untuk periode enam  bulan yang berakhir 30 Juni 2024  dan 2023  akan menurun/meningkat sebesar Rp13.220  dan Rp13.679. Hal ini terutama disebabkan  oleh eksposur Grup terhadap suku bunga  atas pinjaman suku bunga', 'satuan': 'jutaan Rupiah', 'elastisitas_naik': '-', 'elastisitas_turun': '-'}\n",
            "Persen perubahan nilai tukar: 100.0\n",
            "Laba rugi naik setelah: 305000000.0\n",
            "Laba rugi naik sebelum: None\n",
            "Laba rugi turun setelah: 305000000.0\n",
            "Laba rugi turun sebelum: None\n",
            "Error menghitung elastisitas: unsupported operand type(s) for -: 'float' and 'NoneType'\n",
            "Elastisitas naik: -\n",
            "Elastisitas turun: -\n"
          ]
        }
      ],
      "source": [
        "# Reset data supaya fresh sebelum mulai batch baru\n",
        "all_results_dicts_dinamis.clear()\n",
        "benchmark_data.clear()\n",
        "\n",
        "for batch_index, batch_emiten in enumerate(emiten_batches, start=1):\n",
        "    print(f\"\\n🚀 Mulai Batch {batch_index}: {batch_emiten}\")\n",
        "    with ThreadPoolExecutor(max_workers=max_workers) as executor:\n",
        "        futures = [\n",
        "            executor.submit(process_batch, batch_emiten, year, quarter)\n",
        "            for year in years\n",
        "            for quarter in quarters\n",
        "        ]\n",
        "\n",
        "        # 1️⃣ Kumpulkan dulu semua hasil ke 1 list\n",
        "        all_batch_results = []\n",
        "        for future in as_completed(futures):\n",
        "            batch_results = future.result()\n",
        "            all_batch_results.extend(batch_results)\n",
        "\n",
        "        # 2️⃣ Urutkan berdasarkan key (emiten-year-quarter)\n",
        "        all_batch_results.sort(key=lambda x: x[0])\n",
        "\n",
        "        # 3️⃣ Baru olah satu-satu urut\n",
        "        for key, data, durasi in all_batch_results:\n",
        "            all_results_dicts_dinamis[key] = data\n",
        "            emiten_key, year_key, quarter_key = key.split(\"-\")\n",
        "            benchmark_data.append({\n",
        "                \"Emiten\": emiten_key,\n",
        "                \"Kuartal\": f\"{year_key}-{quarter_key}\",\n",
        "                \"Durasi (detik)\": round(durasi, 2)\n",
        "            })\n",
        "\n",
        "            tahun_lalu = str(int(year_key) - 1)\n",
        "            key_tahun_lalu = f\"{emiten_key}-{tahun_lalu}-{quarter_key}\"\n",
        "            company_obj = all_results_dicts_dinamis.get(key_tahun_lalu)\n",
        "\n",
        "            try:\n",
        "                laba_rugi_naik = company_obj[\"normalisasi_laba_rugi_naik\"]\n",
        "                laba_rugi_turun = company_obj[\"normalisasi_laba_rugi_turun\"]\n",
        "                data[\"normalisasi_laba_rugi_tahun_sebelumnya_naik\"] = laba_rugi_naik\n",
        "                data[\"normalisasi_laba_rugi_tahun_sebelumnya_turun\"] = laba_rugi_turun\n",
        "\n",
        "            except (TypeError, KeyError):\n",
        "                laba_rugi_naik = \"-\"\n",
        "                laba_rugi_turun = \"-\"\n",
        "\n",
        "            with open(output_json_file, \"w\", encoding=\"utf-8\") as f:\n",
        "                json.dump(all_results_dicts_dinamis, f, indent=2, ensure_ascii=False)\n",
        "\n",
        "        for key, data, durasi in all_batch_results:\n",
        "            try:\n",
        "                elastisitas_naik, elastisitas_turun = count_elastisity(data)\n",
        "                data[\"elastisitas_naik\"] = elastisitas_naik\n",
        "                data[\"elastisitas_turun\"] = elastisitas_turun\n",
        "                print(f\"Elastisitas naik: {elastisitas_naik}\")\n",
        "                print(f\"Elastisitas turun: {elastisitas_turun}\")\n",
        "\n",
        "            except (TypeError, KeyError):\n",
        "                elastisitas_naik = \"-\"\n",
        "                elastisitas_turun = \"-\"\n",
        "\n",
        "            with open(output_json_file, \"w\", encoding=\"utf-8\") as f:\n",
        "                json.dump(all_results_dicts_dinamis, f, indent=2, ensure_ascii=False)\n"
      ]
    },
    {
      "cell_type": "markdown",
      "metadata": {
        "id": "HYrLKYcqDZXo"
      },
      "source": [
        "Setelah batch selesai diproses, hasil dari setiap `future` yang disubmit akan diambil. Untuk setiap hasil (`key`, `data`, dan `durasi)`, data tersebut disimpan ke dalam `all_results_dicts_dinamis`. Durasi pemrosesan per kuartal juga dicatat dalam benchmark_data.\n",
        "\n",
        "Setelah pemrosesan satu kuartal selesai, hasilnya disimpan dalam file JSON (`output_json_file`). Ini memastikan bahwa data yang sudah diproses tidak hilang jika program terhenti di tengah jalan."
      ]
    },
    {
      "cell_type": "markdown",
      "metadata": {
        "id": "H3gfBsQAAT8o"
      },
      "source": [
        "#### Output & Evaluasi Kinerja"
      ]
    },
    {
      "cell_type": "markdown",
      "metadata": {
        "id": "llxWW29iDhP9"
      },
      "source": [
        "Data yang terkumpul dalam `all_results_dicts_dinamis` diubah menjadi sebuah DataFrame menggunakan pandas. Data ini kemudian disortir berdasarkan kolom Emiten dan Kuartal. Begitu juga dengan data benchmark (`benchmark_data`), yang Setelah data disortir, hasilnya disimpan dalam file Excel untuk data utama (`output_file)` dan file benchmark (`benchmark_file`) juga diubah menjadi DataFrame dan disortir berdasarkan Emiten dan Kuartal."
      ]
    },
    {
      "cell_type": "code",
      "execution_count": 676,
      "metadata": {
        "colab": {
          "base_uri": "https://localhost:8080/"
        },
        "id": "FzFlBaLCDivM",
        "outputId": "6d97fe73-6853-4351-9792-227d2977b6ff"
      },
      "outputs": [
        {
          "output_type": "stream",
          "name": "stdout",
          "text": [
            "\n",
            "✅ File hasil utama: hasil_ekstraksi.xlsx\n"
          ]
        }
      ],
      "source": [
        "import re\n",
        "\n",
        "df = pd.DataFrame(list(all_results_dicts_dinamis.values()))\n",
        "df.to_excel(output_file, index=False)\n",
        "print(f\"\\n✅ File hasil utama: {output_file}\")"
      ]
    },
    {
      "cell_type": "markdown",
      "metadata": {
        "id": "Uk9PuLmfDkiZ"
      },
      "source": [
        "Waktu total yang dibutuhkan untuk menjalankan program dihitung dan dicetak setelah semua batch selesai diproses. Jika kode dijalankan di Google Colab, file hasil (`output_file` dan `benchmark_file`) akan diunduh secara otomatis ke mesin lokal pengguna."
      ]
    },
    {
      "cell_type": "code",
      "execution_count": 677,
      "metadata": {
        "colab": {
          "base_uri": "https://localhost:8080/",
          "height": 104
        },
        "id": "ksbga6n2DmIw",
        "outputId": "88a68457-454d-440a-f6f1-a152af0a96b2"
      },
      "outputs": [
        {
          "output_type": "stream",
          "name": "stdout",
          "text": [
            "\n",
            "✅ File hasil utama: hasil_ekstraksi.xlsx\n",
            "⏱️ File benchmark waktu dibuat: benchmark_waktu.xlsx\n",
            "\n",
            "🕒 Total waktu runtime program: 9.91 detik\n"
          ]
        },
        {
          "output_type": "display_data",
          "data": {
            "text/plain": [
              "<IPython.core.display.Javascript object>"
            ],
            "application/javascript": [
              "\n",
              "    async function download(id, filename, size) {\n",
              "      if (!google.colab.kernel.accessAllowed) {\n",
              "        return;\n",
              "      }\n",
              "      const div = document.createElement('div');\n",
              "      const label = document.createElement('label');\n",
              "      label.textContent = `Downloading \"${filename}\": `;\n",
              "      div.appendChild(label);\n",
              "      const progress = document.createElement('progress');\n",
              "      progress.max = size;\n",
              "      div.appendChild(progress);\n",
              "      document.body.appendChild(div);\n",
              "\n",
              "      const buffers = [];\n",
              "      let downloaded = 0;\n",
              "\n",
              "      const channel = await google.colab.kernel.comms.open(id);\n",
              "      // Send a message to notify the kernel that we're ready.\n",
              "      channel.send({})\n",
              "\n",
              "      for await (const message of channel.messages) {\n",
              "        // Send a message to notify the kernel that we're ready.\n",
              "        channel.send({})\n",
              "        if (message.buffers) {\n",
              "          for (const buffer of message.buffers) {\n",
              "            buffers.push(buffer);\n",
              "            downloaded += buffer.byteLength;\n",
              "            progress.value = downloaded;\n",
              "          }\n",
              "        }\n",
              "      }\n",
              "      const blob = new Blob(buffers, {type: 'application/binary'});\n",
              "      const a = document.createElement('a');\n",
              "      a.href = window.URL.createObjectURL(blob);\n",
              "      a.download = filename;\n",
              "      div.appendChild(a);\n",
              "      a.click();\n",
              "      div.remove();\n",
              "    }\n",
              "  "
            ]
          },
          "metadata": {}
        },
        {
          "output_type": "display_data",
          "data": {
            "text/plain": [
              "<IPython.core.display.Javascript object>"
            ],
            "application/javascript": [
              "download(\"download_67572a0b-67ca-4348-947c-e296b13df0a6\", \"hasil_ekstraksi.xlsx\", 7034)"
            ]
          },
          "metadata": {}
        },
        {
          "output_type": "display_data",
          "data": {
            "text/plain": [
              "<IPython.core.display.Javascript object>"
            ],
            "application/javascript": [
              "\n",
              "    async function download(id, filename, size) {\n",
              "      if (!google.colab.kernel.accessAllowed) {\n",
              "        return;\n",
              "      }\n",
              "      const div = document.createElement('div');\n",
              "      const label = document.createElement('label');\n",
              "      label.textContent = `Downloading \"${filename}\": `;\n",
              "      div.appendChild(label);\n",
              "      const progress = document.createElement('progress');\n",
              "      progress.max = size;\n",
              "      div.appendChild(progress);\n",
              "      document.body.appendChild(div);\n",
              "\n",
              "      const buffers = [];\n",
              "      let downloaded = 0;\n",
              "\n",
              "      const channel = await google.colab.kernel.comms.open(id);\n",
              "      // Send a message to notify the kernel that we're ready.\n",
              "      channel.send({})\n",
              "\n",
              "      for await (const message of channel.messages) {\n",
              "        // Send a message to notify the kernel that we're ready.\n",
              "        channel.send({})\n",
              "        if (message.buffers) {\n",
              "          for (const buffer of message.buffers) {\n",
              "            buffers.push(buffer);\n",
              "            downloaded += buffer.byteLength;\n",
              "            progress.value = downloaded;\n",
              "          }\n",
              "        }\n",
              "      }\n",
              "      const blob = new Blob(buffers, {type: 'application/binary'});\n",
              "      const a = document.createElement('a');\n",
              "      a.href = window.URL.createObjectURL(blob);\n",
              "      a.download = filename;\n",
              "      div.appendChild(a);\n",
              "      a.click();\n",
              "      div.remove();\n",
              "    }\n",
              "  "
            ]
          },
          "metadata": {}
        },
        {
          "output_type": "display_data",
          "data": {
            "text/plain": [
              "<IPython.core.display.Javascript object>"
            ],
            "application/javascript": [
              "download(\"download_1fd5bbd2-470b-40e4-b733-289837cea531\", \"benchmark_waktu.xlsx\", 5015)"
            ]
          },
          "metadata": {}
        }
      ],
      "source": [
        "# Urutkan benchmark berdasarkan 'Emiten' dan 'Kuartal'\n",
        "benchmark_df = pd.DataFrame(benchmark_data)\n",
        "# benchmark_df.sort_values(by=[\"Emiten\", \"Kuartal\"], inplace=True)\n",
        "\n",
        "print(f\"\\n✅ File hasil utama: {output_file}\")\n",
        "benchmark_df.to_excel(benchmark_file, index=False)\n",
        "\n",
        "\n",
        "print(f\"⏱️ File benchmark waktu dibuat: {benchmark_file}\")\n",
        "\n",
        "# Waktu total program\n",
        "end_program_time = time.time()\n",
        "print(f\"\\n🕒 Total waktu runtime program: {round(end_program_time - start_program_time, 2)} detik\")\n",
        "\n",
        "# Auto-download jika di Colab\n",
        "try:\n",
        "    from google.colab import files\n",
        "    files.download(output_file)\n",
        "    files.download(benchmark_file)\n",
        "except:\n",
        "    pass"
      ]
    },
    {
      "cell_type": "markdown",
      "metadata": {
        "id": "vZKIkU30yPea"
      },
      "source": [
        "# Process Documentation"
      ]
    },
    {
      "cell_type": "markdown",
      "metadata": {
        "id": "wXAqnkYXFND1"
      },
      "source": [
        "## 1. CAPTURE – Menentukan Kebutuhan dan Target Informasi\n"
      ]
    },
    {
      "cell_type": "markdown",
      "metadata": {
        "id": "CDwqRmcuGqjA"
      },
      "source": [
        "**Tujuan:**  \n",
        "Memastikan informasi yang dibutuhkan untuk analisis dan pemantauan sektor korporasi.\n",
        "\n",
        "**Proses:**\n",
        "- Identifikasi kebutuhan informasi kebijakan yang ingin diekstrak dari laporan keuangan, misalnya: risiko nilai tukar, suku bunga.\n",
        "- Pengumpulan dokumen laporan keuangan dari Web IDX Indonesia.\n",
        "- Penetapan marker dan keyword pencarian, seperti: `nilai tukar`, `mata uang asing`, dan sebagainya.\n",
        "- Pembacaan PDF halaman demi halaman.\n",
        "- Pencocokan marker berdasarkan konfigurasi per perusahaan untuk menemukan paragraf relevan.\n",
        "- Ekstraksi paragraf yang mengandung informasi sesuai marker."
      ]
    },
    {
      "cell_type": "markdown",
      "metadata": {
        "id": "xR9HVlGXGxuy"
      },
      "source": [
        "## 2. COMPILE – Ekstraksi dan Strukturisasi Data Otomatis"
      ]
    },
    {
      "cell_type": "markdown",
      "metadata": {
        "id": "i5B_B22OGzK4"
      },
      "source": [
        "**Tujuan:**  \n",
        "Mengubah dokumen unstructured menjadi data terstruktur dan siap dianalisis.\n",
        "\n",
        "**Proses:**\n",
        "- Praproses teks: normalisasi whitespace, penghapusan header/footer, dan filter karakter asing.\n",
        "- Identifikasi entitas penting seperti nama mata uang, nilai eksposur, dan instrumen lindung nilai.\n",
        "- Strukturisasi hasil ekstraksi ke dalam format dictionary atau JSON."
      ]
    },
    {
      "cell_type": "markdown",
      "metadata": {
        "id": "ftvDL7_EG1Rh"
      },
      "source": [
        "## 3. ANALYSIS – Pemanfaatan Data untuk Insight dan Kebijakan"
      ]
    },
    {
      "cell_type": "markdown",
      "metadata": {
        "id": "vjJ_SMshG2eO"
      },
      "source": [
        "**Tujuan:**  \n",
        "Menyajikan insight relevan, cepat, dan konsisten untuk mendukung keputusan makroprudensial.\n",
        "\n",
        "**Proses:**\n",
        "- Agregasi data antar perusahaan dan kuartal untuk mengidentifikasi tren sektoral.\n",
        "- Pemetaan eksposur nilai tukar berdasarkan sektor, industri, atau perusahaan besar.\n",
        "- Visualisasi data dan pengembangan dashboard monitoring.\n",
        "- Penyusunan narasi untuk CHAF atau Kajian Stabilitas Keuangan (KSK).\n",
        "- Penyampaian rekomendasi kebijakan berbasis evidence kepada stakeholder internal atau eksternal."
      ]
    }
  ],
  "metadata": {
    "colab": {
      "collapsed_sections": [
        "IeTEqSJOE-5N",
        "KT59bXQCyhJO",
        "DTEKXsr2_Pxt",
        "UOa8Gj2AAIUV",
        "8Xb9FL2iALd3",
        "vZKIkU30yPea"
      ],
      "provenance": [],
      "include_colab_link": true
    },
    "kernelspec": {
      "display_name": "Python 3",
      "name": "python3"
    },
    "language_info": {
      "name": "python"
    }
  },
  "nbformat": 4,
  "nbformat_minor": 0
}