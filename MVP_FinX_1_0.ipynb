{
  "cells": [
    {
      "cell_type": "markdown",
      "metadata": {
        "id": "view-in-github",
        "colab_type": "text"
      },
      "source": [
        "<a href=\"https://colab.research.google.com/github/cbi-automation/lk-extraction/blob/fitriadc-dev/MVP_FinX_1_0.ipynb\" target=\"_parent\"><img src=\"https://colab.research.google.com/assets/colab-badge.svg\" alt=\"Open In Colab\"/></a>"
      ]
    },
    {
      "cell_type": "markdown",
      "metadata": {
        "id": "Z9ba7a2bzmSo"
      },
      "source": [
        "## 📄 FinX : Tools Ekstraksi Informasi Laporan Keuangan\n",
        "\n",
        "Program ini dibuat untuk mengekstraksi informasi penting dari laporan keuangan (PDF) berbagai perusahaan yang terdaftar di Bursa Efek Indonesia. Dokumentasi ini ditujukan untuk pembaca non-teknis maupun teknis, agar dapat memahami alur logika program dan mengembangkannya lebih lanjut."
      ]
    },
    {
      "cell_type": "markdown",
      "metadata": {
        "id": "SiT7SCllyI1I"
      },
      "source": [
        "# Product Documentation"
      ]
    },
    {
      "cell_type": "markdown",
      "metadata": {
        "id": "IeTEqSJOE-5N"
      },
      "source": [
        "## System Documentation"
      ]
    },
    {
      "cell_type": "markdown",
      "metadata": {
        "id": "TCY2g7X27twh"
      },
      "source": [
        "### **Arsitektur Sistem**\n",
        "\n",
        "FinX tersusun dari beberapa modul utama:\n",
        "\n",
        "- `Main.ipynb`: Entry point untuk menjalankan proses ekstraksi.\n",
        "- `marker_config.py`: Marker unik per emiten yang memandu proses ekstraksi.\n",
        "\n",
        "### **Alur Data**\n",
        "\n",
        "- **Input**: Laporan keuangan (PDF) dari situs BEI.\n",
        "- **Proses**: Dibaca dengan `pdfplumber`, dipilah berdasarkan marker.\n",
        "- **Output**: File `.xlsx` berisi informasi yang terstruktur."
      ]
    },
    {
      "cell_type": "markdown",
      "metadata": {
        "id": "KT59bXQCyhJO"
      },
      "source": [
        "## User Documentation"
      ]
    },
    {
      "cell_type": "markdown",
      "metadata": {
        "id": "4bcEWnAL8OZ0"
      },
      "source": [
        "### **Instalasi Program**"
      ]
    },
    {
      "cell_type": "markdown",
      "metadata": {
        "id": "ZnQN0eAN8rWj"
      },
      "source": [
        "- Tambahkan pintasan folder berikut ke Google Drive lokal (root):\n",
        "   [📁 Folder Drive FinX](https://drive.google.com/drive/folders/1mZBcnBDgAkWPbhptWDl6UhLeUB6_ps6M)\n",
        "\n",
        "- Buka link program berikut:\n",
        "   [🔗 Program Utama FinX (Colab)](https://github.com/cbi-automation/lk-extraction/blob/fitriadc-dev/Main.ipynb)\n",
        "\n",
        "- Jalankan langkah berikut:\n",
        "   - Masukkan daftar nama emiten, kuarta, dan tahun yang ingin diesktrak pada variabel list `all_companies`, `kuartal`, dan `tahun`.\n",
        "   - Klik **Runtime > Run all** dan tunggu proses selesai."
      ]
    },
    {
      "cell_type": "markdown",
      "metadata": {
        "id": "KPDwO2b_8uYT"
      },
      "source": [
        "### **Menambah Emiten Baru**"
      ]
    },
    {
      "cell_type": "markdown",
      "metadata": {
        "id": "k55Uk-AG9fZ8"
      },
      "source": [
        "- Buat folder baru pada folder `IDX_CALK_FX_SB_82`dengan format `/{kode_emiten}`\n",
        "- Tambahkan file pdf di dalam folder emiten tersebut dengan format `{kode_emiten}-{tahun}-{kuartal}`\n",
        "- Lakukan langkah `Menambah Jenis Informasi Baru untuk Diekstrak` sesuai jenis informasi yang dibutuhkan dari emiten tersebut."
      ]
    },
    {
      "cell_type": "markdown",
      "metadata": {
        "id": "yXNRZmBd8zno"
      },
      "source": [
        "### **Menambah Jenis Informasi Baru untuk Sebuah Emiten**"
      ]
    },
    {
      "cell_type": "markdown",
      "metadata": {
        "id": "OCvjzR9W9ksu"
      },
      "source": [
        "- Tentukan pattern marker (start dan end) yang tertera dalam dokument pdf sesuai jenis informasi yang ingin diekstrak.\n",
        "- Tambahkan marker tersebut di `marker_config.py`."
      ]
    },
    {
      "cell_type": "markdown",
      "metadata": {
        "id": "x_-ZqBJSy_8g"
      },
      "source": [
        "# Source Code Documentation"
      ]
    },
    {
      "cell_type": "markdown",
      "metadata": {
        "id": "DTEKXsr2_Pxt"
      },
      "source": [
        "#### Setup & Inisialisasi Lingkungan"
      ]
    },
    {
      "cell_type": "markdown",
      "metadata": {
        "id": "EvtJre_HAEVJ"
      },
      "source": [
        "Bagian pertama memuat berbagai *library* yang dibutuhkan, baik untuk pemrosesan file PDF (`pdfplumber`, `PyMuPDF`), pengolahan data (`pandas`), maupun manajemen sistem (`os`, `json`, `time`)."
      ]
    },
    {
      "cell_type": "code",
      "execution_count": null,
      "metadata": {
        "colab": {
          "base_uri": "https://localhost:8080/"
        },
        "id": "nrkLt9l5A2jn",
        "outputId": "6701e4f2-5151-404c-bd89-9d32c80de98d"
      },
      "outputs": [
        {
          "output_type": "stream",
          "name": "stdout",
          "text": [
            "Collecting PyMuPDF\n",
            "  Downloading pymupdf-1.26.0-cp39-abi3-manylinux2014_x86_64.manylinux_2_17_x86_64.whl.metadata (3.4 kB)\n",
            "Downloading pymupdf-1.26.0-cp39-abi3-manylinux2014_x86_64.manylinux_2_17_x86_64.whl (24.1 MB)\n",
            "\u001b[2K   \u001b[90m━━━━━━━━━━━━━━━━━━━━━━━━━━━━━━━━━━━━━━━━\u001b[0m \u001b[32m24.1/24.1 MB\u001b[0m \u001b[31m56.9 MB/s\u001b[0m eta \u001b[36m0:00:00\u001b[0m\n",
            "\u001b[?25hInstalling collected packages: PyMuPDF\n",
            "Successfully installed PyMuPDF-1.26.0\n",
            "Collecting pdfplumber\n",
            "  Downloading pdfplumber-0.11.6-py3-none-any.whl.metadata (42 kB)\n",
            "\u001b[2K     \u001b[90m━━━━━━━━━━━━━━━━━━━━━━━━━━━━━━━━━━━━━━━━\u001b[0m \u001b[32m42.8/42.8 kB\u001b[0m \u001b[31m1.4 MB/s\u001b[0m eta \u001b[36m0:00:00\u001b[0m\n",
            "\u001b[?25hCollecting pdfminer.six==20250327 (from pdfplumber)\n",
            "  Downloading pdfminer_six-20250327-py3-none-any.whl.metadata (4.1 kB)\n",
            "Requirement already satisfied: Pillow>=9.1 in /usr/local/lib/python3.11/dist-packages (from pdfplumber) (11.2.1)\n",
            "Collecting pypdfium2>=4.18.0 (from pdfplumber)\n",
            "  Downloading pypdfium2-4.30.1-py3-none-manylinux_2_17_x86_64.manylinux2014_x86_64.whl.metadata (48 kB)\n",
            "\u001b[2K     \u001b[90m━━━━━━━━━━━━━━━━━━━━━━━━━━━━━━━━━━━━━━━\u001b[0m \u001b[32m48.2/48.2 kB\u001b[0m \u001b[31m412.8 kB/s\u001b[0m eta \u001b[36m0:00:00\u001b[0m\n",
            "\u001b[?25hRequirement already satisfied: charset-normalizer>=2.0.0 in /usr/local/lib/python3.11/dist-packages (from pdfminer.six==20250327->pdfplumber) (3.4.2)\n",
            "Requirement already satisfied: cryptography>=36.0.0 in /usr/local/lib/python3.11/dist-packages (from pdfminer.six==20250327->pdfplumber) (43.0.3)\n",
            "Requirement already satisfied: cffi>=1.12 in /usr/local/lib/python3.11/dist-packages (from cryptography>=36.0.0->pdfminer.six==20250327->pdfplumber) (1.17.1)\n",
            "Requirement already satisfied: pycparser in /usr/local/lib/python3.11/dist-packages (from cffi>=1.12->cryptography>=36.0.0->pdfminer.six==20250327->pdfplumber) (2.22)\n",
            "Downloading pdfplumber-0.11.6-py3-none-any.whl (60 kB)\n",
            "\u001b[2K   \u001b[90m━━━━━━━━━━━━━━━━━━━━━━━━━━━━━━━━━━━━━━━━\u001b[0m \u001b[32m60.2/60.2 kB\u001b[0m \u001b[31m3.4 MB/s\u001b[0m eta \u001b[36m0:00:00\u001b[0m\n",
            "\u001b[?25hDownloading pdfminer_six-20250327-py3-none-any.whl (5.6 MB)\n",
            "\u001b[2K   \u001b[90m━━━━━━━━━━━━━━━━━━━━━━━━━━━━━━━━━━━━━━━━\u001b[0m \u001b[32m5.6/5.6 MB\u001b[0m \u001b[31m35.1 MB/s\u001b[0m eta \u001b[36m0:00:00\u001b[0m\n",
            "\u001b[?25hDownloading pypdfium2-4.30.1-py3-none-manylinux_2_17_x86_64.manylinux2014_x86_64.whl (2.9 MB)\n",
            "\u001b[2K   \u001b[90m━━━━━━━━━━━━━━━━━━━━━━━━━━━━━━━━━━━━━━━━\u001b[0m \u001b[32m2.9/2.9 MB\u001b[0m \u001b[31m35.3 MB/s\u001b[0m eta \u001b[36m0:00:00\u001b[0m\n",
            "\u001b[?25hInstalling collected packages: pypdfium2, pdfminer.six, pdfplumber\n",
            "Successfully installed pdfminer.six-20250327 pdfplumber-0.11.6 pypdfium2-4.30.1\n"
          ]
        }
      ],
      "source": [
        "import os\n",
        "import json\n",
        "import time\n",
        "from concurrent.futures import ThreadPoolExecutor, as_completed\n",
        "!pip install PyMuPDF\n",
        "import warnings, logging, re, os\n",
        "!pip install pdfplumber\n",
        "import pdfplumber\n",
        "import pandas as pd\n",
        "from google.colab import files\n",
        "import time\n",
        "import fitz  # PyMuPDF\n",
        "from dataclasses import dataclass, field\n",
        "from typing import Dict, Optional"
      ]
    },
    {
      "cell_type": "code",
      "execution_count": null,
      "metadata": {
        "colab": {
          "base_uri": "https://localhost:8080/"
        },
        "id": "WCuSPH0YA5Jf",
        "outputId": "364fec61-0734-4cc9-98a1-2395b737afd5"
      },
      "outputs": [
        {
          "output_type": "stream",
          "name": "stdout",
          "text": [
            "Mounted at /content/drive\n"
          ]
        }
      ],
      "source": [
        "from google.colab import drive\n",
        "drive.mount('/content/drive')\n",
        "\n",
        "# Catat waktu mulai\n",
        "start_program_time = time.time()"
      ]
    },
    {
      "cell_type": "markdown",
      "metadata": {
        "id": "WyP4FJm0_4uZ"
      },
      "source": [
        "Pencatatan waktu program dijalankan dengan time.time(). Hal ini digunakan untuk mengetahui durasi total eksekusi program.\n",
        "\n",
        "Selanjutnya, dilakukan konfigurasi path dasar sumber data dan folder output sebagai tempat menyimpan hasil ekstraksi. Jika belum tersedia, maka folder otomatis dibuat menggunakan `os.makedirs`."
      ]
    },
    {
      "cell_type": "code",
      "execution_count": null,
      "metadata": {
        "id": "bfzUdpjEBOR1"
      },
      "outputs": [],
      "source": [
        "# Path dasar input dan output\n",
        "base_path = \"/content/drive/MyDrive/IDX_CALK_FX_SB_82\"\n",
        "output_path = os.path.join(base_path, \"output\")\n",
        "os.makedirs(output_path, exist_ok=True)\n",
        "\n",
        "# Konfigurasi nama file output\n",
        "output_json_file = \"hasil_semua.json\"\n",
        "output_file = \"hasil_ekstraksi.xlsx\"\n",
        "benchmark_file = \"benchmark_waktu.xlsx\""
      ]
    },
    {
      "cell_type": "markdown",
      "metadata": {
        "id": "SikCtNv8AFxA"
      },
      "source": [
        "#### Parameter Pemrosesan & Multi-threading"
      ]
    },
    {
      "cell_type": "markdown",
      "metadata": {
        "id": "gdifQd1_BgQt"
      },
      "source": [
        "Daftar perusahaan yang akan diproses disimpan dalam `all_companies`, serta tahun (`years`) dan kuartal (`quarters`) yang diinginkan. Pemrosesan dilakukan secara paralel (multi-threading) dengan batas maksimal thread (`max_workers`) yang disesuaikan dengan jumlah inti CPU."
      ]
    },
    {
      "cell_type": "code",
      "execution_count": null,
      "metadata": {
        "id": "At_YjMjcBjLM"
      },
      "outputs": [],
      "source": [
        "# Daftar perusahaan\n",
        "# all_companies = [\n",
        "#     \"TLKM\", \"INDF\", \"INKP\", \"ADRO\", \"UNTR\", \"JSMR\", \"ICBP\", \"MEDC\", \"ISAT\", \"GIAA\",\n",
        "#     \"PGAS\", \"EXCL\", \"TPIA\", \"SMGR\", \"MDKA\", \"BHIT\", \"BSDE\", \"WIKA\", \"IMAS\", \"TKIM\",\n",
        "#     \"HMSP\", \"LPKR\", \"INDY\", \"BYAN\", \"INCO\", \"TBIG\", \"CTRA\", \"FREN\", \"EMTK\", \"CPIN\",\n",
        "#     \"ANTM\", \"SMAR\", \"PTBA\", \"ADHI\", \"PANI\", \"HRUM\", \"AMRT\", \"BMTR\", \"SIMP\", \"JPFA\",\n",
        "#     \"ITMG\", \"PWON\", \"ABMM\", \"AKRA\", \"AALI\", \"INTP\", \"KLBF\", \"MAPI\", \"BIPI\", \"APLN\",\n",
        "#     \"MYOR\", \"DOID\", \"TBLA\", \"BUKA\", \"MNCN\", \"ENRG\", \"ASRI\", \"CMNP\", \"SMCB\", \"DNET\",\n",
        "#     \"AUTO\", \"BKSL\", \"CENT\", \"GEMS\", \"SMDR\", \"GJTL\", \"UNVR\", \"BRMS\", \"CMNT\", \"KAEF\",\n",
        "#     \"DSNG\", \"DUTI\", \"TOBA\", \"DILD\", \"TAPG\", \"MDLN\", \"NIRO\", \"JRPT\", \"PSAB\", \"KIJA\",\n",
        "#     \"TINS\", \"LSIP\", \"ARCI\", \"MLPL\", \"FASW\", \"INDR\", \"PLIN\", \"MCOL\", \"TSPC\", \"SSMS\",\n",
        "#     \"CSAP\", \"MAPA\", \"PTRO\", \"EPMT\", \"SILO\", \"SCMA\", \"LPCK\", \"MTDL\", \"ELSA\", \"SGRO\"\n",
        "# ]\n",
        "\n",
        "all_companies = [ \"ICBP\",\"IMAS\",\"TKIM\", \"BYAN\"]\n",
        "\n",
        "# all_companies = [\n",
        "#     \"INDF\", \"INKP\", \"ADRO\", \"UNTR\", \"JSMR\", \"ICBP\", \"MEDC\", \"ISAT\", \"GIAA\", \"PGAS\",\n",
        "#     \"EXCL\", \"TPIA\", \"SMGR\", \"MDKA\", \"BHIT\", \"BSDE\", \"WIKA\", \"IMAS\", \"TKIM\", \"LPKR\",\n",
        "#     \"BYAN\", \"INCO\", \"TBIG\", \"FREN\", \"EMTK\", \"CPIN\", \"ANTM\", \"PTBA\", \"ADHI\", \"HRUM\",\n",
        "#     \"SIMP\", \"ABMM\", \"AKRA\", \"MAPI\", \"APLN\", \"MYOR\", \"DOID\", \"TBLA\", \"BUKA\", \"MNCN\",\n",
        "#     \"ENRG\", \"DNET\", \"AUTO\", \"BKSL\", \"CENT\", \"GEMS\", \"SMDR\", \"GJTL\", \"BRMS\", \"DSNG\",\n",
        "#     \"DUTI\", \"TOBA\", \"DILD\", \"TAPG\", \"NIRO\", \"JRPT\", \"PSAB\", \"KIJA\", \"TINS\", \"FASW\",\n",
        "#     \"MCOL\", \"TSPC\", \"SSMS\", \"CSAP\", \"MAPA\", \"PTRO\", \"EPMT\", \"SILO\", \"SCMA\", \"MTDL\",\n",
        "#     \"ELSA\", \"SGRO\"\n",
        "# ]\n",
        "\n",
        "all_companies = [\n",
        "    \"CMNP\",\n",
        "    \"SMCB\",\n",
        "    \"UNVR\",\n",
        "    \"CMNT\",\n",
        "    \"KAEF\",\n",
        "    \"MDLN\",\n",
        "    \"LSIP\",\n",
        "    \"ARCI\",\n",
        "    \"MLPL\",\n",
        "    \"INDR\",\n",
        "    \"PLIN\",\n",
        "    \"LPCK\"\n",
        "]\n",
        "\n",
        "\n",
        "\n",
        "# Tahun dan kuartal yang ingin diproses\n",
        "years = [\"2023\", \"2024\"]\n",
        "quarters = [\"Q1\", \"Q2\", \"Q3\"]\n",
        "max_workers = min(10, os.cpu_count() or 4)\n",
        "batch_size = 10\n",
        "\n",
        "import logging\n",
        "logging.getLogger(\"pdfminer\").setLevel(logging.ERROR)"
      ]
    },
    {
      "cell_type": "markdown",
      "metadata": {
        "id": "UOa8Gj2AAIUV"
      },
      "source": [
        "#### Konfigurasi Marker untuk Ekstraksi Teks"
      ]
    },
    {
      "cell_type": "markdown",
      "metadata": {
        "id": "VJUDHT7DBmou"
      },
      "source": [
        "Marker adalah kata kunci yang digunakan untuk menemukan bagian penting dari laporan keuangan. File `marker_config.py` diunduh langsung dari GitHub dan berisi konfigurasi penanda untuk berbagai perusahaan. Selanjutnya diambil konfigurasi marker untuk ratusan emiten saham dari file `marker_config.py`yang berisi aturan atau pola teks spesifik yang digunakan untuk mengekstraksi informasi tertentu dari laporan keuangan PDF emiten terkait. Setelah semua konfigurasi diimpor, kode tersebut membuat sebuah dictionary bernama marker_config_map yang memetakan ticker saham ke konfigurasi marker yang sesuai."
      ]
    },
    {
      "cell_type": "code",
      "execution_count": null,
      "metadata": {
        "colab": {
          "base_uri": "https://localhost:8080/"
        },
        "id": "fR_EqtrMBtUV",
        "outputId": "e8976e8e-9e80-47f5-e3b7-7873961a67bf"
      },
      "outputs": [
        {
          "output_type": "stream",
          "name": "stdout",
          "text": [
            "--2025-06-11 06:26:14--  https://raw.githubusercontent.com/cbi-automation/lk-extraction/fitriadc-dev/marker_config.py\n",
            "Resolving raw.githubusercontent.com (raw.githubusercontent.com)... 185.199.108.133, 185.199.109.133, 185.199.110.133, ...\n",
            "Connecting to raw.githubusercontent.com (raw.githubusercontent.com)|185.199.108.133|:443... connected.\n",
            "HTTP request sent, awaiting response... 200 OK\n",
            "Length: 23469 (23K) [text/plain]\n",
            "Saving to: ‘marker_config.py’\n",
            "\n",
            "marker_config.py    100%[===================>]  22.92K  --.-KB/s    in 0.003s  \n",
            "\n",
            "2025-06-11 06:26:14 (8.12 MB/s) - ‘marker_config.py’ saved [23469/23469]\n",
            "\n"
          ]
        }
      ],
      "source": [
        "!wget https://raw.githubusercontent.com/cbi-automation/lk-extraction/fitriadc-dev/marker_config.py -O marker_config.py\n",
        "\n",
        "\n",
        "from marker_config import (\n",
        "    ELSA_marker_config,\n",
        "    SGRO_marker_config,\n",
        "    TLKM_marker_config,\n",
        "    INDF_marker_config,\n",
        "    INKP_marker_config,\n",
        "    ADRO_marker_config,\n",
        "    UNTR_marker_config,\n",
        "    JSMR_marker_config,\n",
        "    ICBP_marker_config,\n",
        "    MEDC_marker_config,\n",
        "    ISAT_marker_config,\n",
        "    GIAA_marker_config,\n",
        "    PGAS_marker_config,\n",
        "    EXCL_marker_config,\n",
        "    TPIA_marker_config,\n",
        "    SMGR_marker_config,\n",
        "    MDKA_marker_config,\n",
        "    TOWR_marker_config,\n",
        "    BHIT_marker_config,\n",
        "    BSDE_marker_config,\n",
        "    WIKA_marker_config,\n",
        "    IMAS_marker_config,\n",
        "    TKIM_marker_config,\n",
        "    PTPP_marker_config,\n",
        "    HMSP_marker_config,\n",
        "    LPKR_marker_config,\n",
        "    DSSA_marker_config,\n",
        "    INDY_marker_config,\n",
        "    BYAN_marker_config,\n",
        "    INCO_marker_config,\n",
        "    TBIG_marker_config,\n",
        "    CTRA_marker_config,\n",
        "    FREN_marker_config,\n",
        "    EMTK_marker_config,\n",
        "    KRAS_marker_config,\n",
        "    CPIN_marker_config,\n",
        "    ANTM_marker_config,\n",
        "    SMAR_marker_config,\n",
        "    PTBA_marker_config,\n",
        "    ADHI_marker_config,\n",
        "    PANI_marker_config,\n",
        "    HRUM_marker_config,\n",
        "    AMRT_marker_config,\n",
        "    BMTR_marker_config,\n",
        "    SIMP_marker_config,\n",
        "    JPFA_marker_config,\n",
        "    ITMG_marker_config,\n",
        "    KPIG_marker_config,\n",
        "    PWON_marker_config,\n",
        "    ABMM_marker_config,\n",
        "    SMRA_marker_config,\n",
        "    AKRA_marker_config,\n",
        "    AALI_marker_config,\n",
        "    INTP_marker_config,\n",
        "    KLBF_marker_config,\n",
        "    MAPI_marker_config,\n",
        "    BIPI_marker_config,\n",
        "    APLN_marker_config,\n",
        "    MYOR_marker_config,\n",
        "    DOID_marker_config,\n",
        "    TBLA_marker_config,\n",
        "    BUKA_marker_config,\n",
        "    MNCN_marker_config,\n",
        "    ERAA_marker_config,\n",
        "    ENRG_marker_config,\n",
        "    ASRI_marker_config,\n",
        "    CMNP_marker_config,\n",
        "    SMCB_marker_config,\n",
        "    POWR_marker_config,\n",
        "    DNET_marker_config,\n",
        "    AUTO_marker_config,\n",
        "    BKSL_marker_config,\n",
        "    CENT_marker_config,\n",
        "    GEMS_marker_config,\n",
        "    SMDR_marker_config,\n",
        "    GJTL_marker_config,\n",
        "    PPRO_marker_config,\n",
        "    # GGRP_marker_config,\n",
        "    UNVR_marker_config,\n",
        "    BRMS_marker_config,\n",
        "    CMNT_marker_config,\n",
        "    KAEF_marker_config,\n",
        "    DSNG_marker_config,\n",
        "    DUTI_marker_config,\n",
        "    TOBA_marker_config,\n",
        "    DILD_marker_config,\n",
        "    TAPG_marker_config,\n",
        "    MDLN_marker_config,\n",
        "    NIRO_marker_config,\n",
        "    JRPT_marker_config,\n",
        "    PSAB_marker_config,\n",
        "    KIJA_marker_config,\n",
        "    TINS_marker_config,\n",
        "    LSIP_marker_config,\n",
        "    ARCI_marker_config,\n",
        "    MLPL_marker_config,\n",
        "    FASW_marker_config,\n",
        "    INDR_marker_config,\n",
        "    PLIN_marker_config,\n",
        "    MCOL_marker_config,\n",
        "    TSPC_marker_config,\n",
        "    SSMS_marker_config,\n",
        "    CSAP_marker_config,\n",
        "    MAPA_marker_config,\n",
        "    PTRO_marker_config,\n",
        "    EPMT_marker_config,\n",
        "    SILO_marker_config,\n",
        "    SCMA_marker_config,\n",
        "    LPCK_marker_config,\n",
        "    MTDL_marker_config\n",
        ")\n",
        "\n",
        "marker_config_map = {\n",
        "    \"ELSA\":ELSA_marker_config,\n",
        "    \"SGRO\": SGRO_marker_config,\n",
        "    \"TLKM\": TLKM_marker_config,\n",
        "    \"INDF\": INDF_marker_config,\n",
        "    \"INKP\": INKP_marker_config,\n",
        "    \"ADRO\": ADRO_marker_config,\n",
        "    \"UNTR\": UNTR_marker_config,\n",
        "    \"JSMR\": JSMR_marker_config,\n",
        "    \"ICBP\": ICBP_marker_config,\n",
        "    \"MEDC\": MEDC_marker_config,\n",
        "    \"ISAT\": ISAT_marker_config,\n",
        "    \"GIAA\": GIAA_marker_config,\n",
        "    \"PGAS\": PGAS_marker_config,\n",
        "    \"EXCL\": EXCL_marker_config,\n",
        "    \"TPIA\": TPIA_marker_config,\n",
        "    \"SMGR\": SMGR_marker_config,\n",
        "    \"MDKA\": MDKA_marker_config,\n",
        "    \"TOWR\": TOWR_marker_config,\n",
        "    \"BHIT\": BHIT_marker_config,\n",
        "    \"BSDE\": BSDE_marker_config,\n",
        "    \"WIKA\": WIKA_marker_config,\n",
        "    \"IMAS\": IMAS_marker_config,\n",
        "    \"TKIM\": TKIM_marker_config,\n",
        "    \"PTPP\": PTPP_marker_config,\n",
        "    \"HMSP\": HMSP_marker_config,\n",
        "    \"LPKR\": LPKR_marker_config,\n",
        "    \"DSSA\": DSSA_marker_config,\n",
        "    \"INDY\": INDY_marker_config,\n",
        "    \"BYAN\": BYAN_marker_config,\n",
        "    \"INCO\": INCO_marker_config,\n",
        "    \"TBIG\": TBIG_marker_config,\n",
        "    \"CTRA\": CTRA_marker_config,\n",
        "    \"FREN\": FREN_marker_config,\n",
        "    \"EMTK\": EMTK_marker_config,\n",
        "    \"KRAS\": KRAS_marker_config,\n",
        "    \"CPIN\": CPIN_marker_config,\n",
        "    \"ANTM\": ANTM_marker_config,\n",
        "    \"SMAR\": SMAR_marker_config,\n",
        "    \"PTBA\": PTBA_marker_config,\n",
        "    \"ADHI\": ADHI_marker_config,\n",
        "    \"PANI\": PANI_marker_config,\n",
        "    \"HRUM\": HRUM_marker_config,\n",
        "    \"AMRT\": AMRT_marker_config,\n",
        "    \"BMTR\": BMTR_marker_config,\n",
        "    \"SIMP\": SIMP_marker_config,\n",
        "    \"JPFA\": JPFA_marker_config,\n",
        "    \"ITMG\": ITMG_marker_config,\n",
        "    \"KPIG\": KPIG_marker_config,\n",
        "    \"PWON\": PWON_marker_config,\n",
        "    \"ABMM\": ABMM_marker_config,\n",
        "    \"SMRA\": SMRA_marker_config,\n",
        "    \"AKRA\": AKRA_marker_config,\n",
        "    \"AALI\": AALI_marker_config,\n",
        "    \"INTP\": INTP_marker_config,\n",
        "    \"KLBF\": KLBF_marker_config,\n",
        "    \"MAPI\": MAPI_marker_config,\n",
        "    \"BIPI\": BIPI_marker_config,\n",
        "    \"APLN\": APLN_marker_config,\n",
        "    \"MYOR\": MYOR_marker_config,\n",
        "    \"DOID\": DOID_marker_config,\n",
        "    \"TBLA\": TBLA_marker_config,\n",
        "    \"BUKA\": BUKA_marker_config,\n",
        "    \"MNCN\": MNCN_marker_config,\n",
        "    \"ERAA\": ERAA_marker_config,\n",
        "    \"ENRG\": ENRG_marker_config,\n",
        "    \"ASRI\": ASRI_marker_config,\n",
        "    \"CMNP\": CMNP_marker_config,\n",
        "    \"SMCB\": SMCB_marker_config,\n",
        "    \"POWR\": POWR_marker_config,\n",
        "    \"DNET\": DNET_marker_config,\n",
        "    \"AUTO\": AUTO_marker_config,\n",
        "    \"BKSL\": BKSL_marker_config,\n",
        "    \"CENT\": CENT_marker_config,\n",
        "    \"GEMS\": GEMS_marker_config,\n",
        "    \"SMDR\": SMDR_marker_config,\n",
        "    \"GJTL\": GJTL_marker_config,\n",
        "    \"PPRO\": PPRO_marker_config,\n",
        "    # \"GGRP\": GGRP_marker_config,\n",
        "    \"UNVR\": UNVR_marker_config,\n",
        "    \"BRMS\": BRMS_marker_config,\n",
        "    \"CMNT\": CMNT_marker_config,\n",
        "    \"KAEF\": KAEF_marker_config,\n",
        "    \"DSNG\": DSNG_marker_config,\n",
        "    \"DUTI\": DUTI_marker_config,\n",
        "    \"TOBA\": TOBA_marker_config,\n",
        "    \"DILD\": DILD_marker_config,\n",
        "    \"TAPG\": TAPG_marker_config,\n",
        "    \"MDLN\": MDLN_marker_config,\n",
        "    \"NIRO\": NIRO_marker_config,\n",
        "    \"JRPT\": JRPT_marker_config,\n",
        "    \"PSAB\": PSAB_marker_config,\n",
        "    \"KIJA\": KIJA_marker_config,\n",
        "    \"TINS\": TINS_marker_config,\n",
        "    \"LSIP\": LSIP_marker_config,\n",
        "    \"ARCI\": ARCI_marker_config,\n",
        "    \"MLPL\": MLPL_marker_config,\n",
        "    \"FASW\": FASW_marker_config,\n",
        "    \"INDR\": INDR_marker_config,\n",
        "    \"PLIN\": PLIN_marker_config,\n",
        "    \"MCOL\": MCOL_marker_config,\n",
        "    \"TSPC\": TSPC_marker_config,\n",
        "    \"SSMS\": SSMS_marker_config,\n",
        "    \"CSAP\": CSAP_marker_config,\n",
        "    \"MAPA\": MAPA_marker_config,\n",
        "    \"PTRO\": PTRO_marker_config,\n",
        "    \"EPMT\": EPMT_marker_config,\n",
        "    \"SILO\": SILO_marker_config,\n",
        "    \"SCMA\": SCMA_marker_config,\n",
        "    \"LPCK\": LPCK_marker_config,\n",
        "    \"MTDL\": MTDL_marker_config\n",
        "}"
      ]
    },
    {
      "cell_type": "markdown",
      "metadata": {
        "id": "8Xb9FL2iALd3"
      },
      "source": [
        "#### Ekstraksi Informasi & Parsing Dokumen"
      ]
    },
    {
      "cell_type": "markdown",
      "metadata": {
        "id": "JBALBMW-B19c"
      },
      "source": [
        "Fungsi `extract_text()` bertanggung jawab untuk membaca seluruh isi teks dari setiap halaman PDF. Library fitz (alias PyMuPDF) digunakan karena lebih cepat dan andal dibanding library lain seperti pdfminer."
      ]
    },
    {
      "cell_type": "code",
      "execution_count": null,
      "metadata": {
        "id": "ldtKz34eB4jL"
      },
      "outputs": [],
      "source": [
        "# Fungsi ekstraksi teks yang cepat\n",
        "def extract_text(file_path):\n",
        "    text = \"\"\n",
        "    with fitz.open(file_path) as doc:\n",
        "        for page in doc:\n",
        "            text += page.get_text()\n",
        "    return text"
      ]
    },
    {
      "cell_type": "markdown",
      "metadata": {
        "id": "DXDs_2b9B6YK"
      },
      "source": [
        "Program menggunakan Python `@dataclass` untuk menyimpan hasil ekstraksi dalam bentuk struktur data Company. Ini memudahkan penyimpanan dan konversi ke format tabular seperti CSV atau Excel. Setiap objek `Company` merepresentasikan satu laporan keuangan dari satu perusahaan pada satu kuartal."
      ]
    },
    {
      "cell_type": "code",
      "execution_count": null,
      "metadata": {
        "id": "ID9i7b11B7-e"
      },
      "outputs": [],
      "source": [
        "@dataclass\n",
        "class Company:\n",
        "    kuartal: str = \"-\"\n",
        "    perusahaan: str = \"-\"\n",
        "    satuan: str = \"-\"\n",
        "    risiko_nilai_tukar: str = \"-\"\n",
        "\n",
        "field_map: Dict[str, str] = {\n",
        "    \"kuartal\": \"Kuartal\",\n",
        "    \"perusahaan\": \"Perusahaan\",\n",
        "    \"satuan\": \"Disajikan dalam\",\n",
        "    \"risiko_nilai_tukar\": \"Efek Risiko Nilai Tukar\",\n",
        "    \"risiko_suku_bunga\": \"Efek Risiko Suku Bunga\",\n",
        "}\n",
        "\n",
        "def get_str(value) -> str:\n",
        "    if value is None:\n",
        "        return \"-\"\n",
        "    val = str(value).strip()\n",
        "    return val if val else \"-\"\n",
        "\n",
        "def generate_company(doc: Optional[dict]) -> Company:\n",
        "    data = {}\n",
        "    for attr, source_key in field_map.items():\n",
        "        data[attr] = get_str(doc.get(source_key)) if doc else \"-\"\n",
        "    return Company(**data)\n",
        "\n",
        "company = Company()"
      ]
    },
    {
      "cell_type": "markdown",
      "metadata": {
        "id": "PaKK7tqaCLoS"
      },
      "source": [
        "`field_map` adalah dictionary yang berfungsi untuk memetakan nama atribut internal (misalnya risiko_suku_bunga) ke nama kolom hasil ekstraksi yang lebih manusiawi (seperti \"Efek Risiko Suku Bunga\"). Hal ini membuat hasil akhir lebih mudah dibaca dan diekspor ke Excel atau antarmuka lain.\n",
        "\n",
        "Fungsi `get_str()` memastikan bahwa nilai dari hasil ekstraksi selalu berupa string yang bersih dari spasi atau None. Jika nilai kosong atau tidak tersedia, fungsi ini akan mengembalikan tanda -, agar hasil tetap konsisten dan tidak menimbulkan error saat diproses lebih lanjut.\n",
        "\n",
        "Fungsi `generate_company()` membentuk satu instance Company berdasarkan hasil ekstraksi teks PDF dan marker yang sesuai untuk masing-masing perusahaan. Ia memanggil fungsi-fungsi find_satuan, find_nilai_tukar, dan find_suku_bunga dari konfigurasi marker emiten."
      ]
    },
    {
      "cell_type": "code",
      "execution_count": null,
      "metadata": {
        "id": "laKZXBNmCPQ8"
      },
      "outputs": [],
      "source": [
        "\n",
        "def find_paragraphs_by_marker_pairs(text, marker_pairs, kuartal=\"2022\"):\n",
        "    start_marker, end_marker = marker_pairs[0]\n",
        "    start_idx = text.find(start_marker)\n",
        "    if start_idx == -1:\n",
        "        print(f\"[❗] Start marker tidak ditemukan di {kuartal}: {start_marker}\")\n",
        "        return \"-\"  # Jika tidak ditemukan, kembalikan \"-\" sebagai indikator tidak ditemukan\n",
        "\n",
        "    search_range = text[start_idx:]\n",
        "    end_relative = search_range.find(end_marker)\n",
        "    if end_relative == -1:\n",
        "        print(f\"[❗] End marker tidak ditemukan setelah start marker di {kuartal}: {end_marker}\")\n",
        "        return \"-\"  # Jika tidak ditemukan, kembalikan \"-\" sebagai indikator tidak ditemukan\n",
        "\n",
        "    end_idx = start_idx + end_relative\n",
        "\n",
        "    orig_start_idx = text.lower().find(start_marker.lower())\n",
        "    orig_end_idx = text.lower().find(end_marker.lower(), orig_start_idx)\n",
        "\n",
        "    if orig_start_idx != -1 and orig_end_idx != -1:\n",
        "        content_raw = text[orig_start_idx + len(start_marker): orig_end_idx]\n",
        "        snippet = content_raw.strip()\n",
        "    else:\n",
        "        snippet = text[start_idx + len(start_marker): end_idx].strip()\n",
        "\n",
        "    return snippet  # Kembalikan string langsung, bukan list atau dict"
      ]
    },
    {
      "cell_type": "markdown",
      "metadata": {
        "id": "c2jV__OeCSOV"
      },
      "source": [
        "Fungsi `process_pdf_batch()` menangani pemrosesan banyak file PDF secara paralel dalam batch. Ia akan mencoba mengimpor konfigurasi marker perusahaan secara dinamis, mengeksekusi generate_company, dan menyimpan hasil ekstraksi ke list `results`."
      ]
    },
    {
      "cell_type": "code",
      "execution_count": null,
      "metadata": {
        "id": "vyJzf12TCUI_"
      },
      "outputs": [],
      "source": [
        "def find_nilai_tukar(text, marker_pairs, company: Company, kuartal: str):\n",
        "    # Gabungkan newline jadi spasi agar regex lebih fleksibel\n",
        "    teks_kotor = find_paragraphs_by_marker_pairs(text, marker_pairs, kuartal)\n",
        "\n",
        "    # Cek apakah teks_kotor adalah list, dan gabungkan menjadi string jika iya\n",
        "    if isinstance(teks_kotor, list):\n",
        "        teks_kotor = \" \".join(teks_kotor)\n",
        "\n",
        "    teks_bersih = teks_kotor.replace(\"\\n\", \" \")\n",
        "\n",
        "    company.risiko_nilai_tukar = teks_bersih\n",
        "\n",
        "def find_suku_bunga(text, marker_pairs, company: Company, kuartal: str):\n",
        "    # Gabungkan newline jadi spasi agar regex lebih fleksibel\n",
        "    teks_kotor = find_paragraphs_by_marker_pairs(text, marker_pairs, kuartal)\n",
        "\n",
        "    # Cek apakah teks_kotor adalah list, dan gabungkan menjadi string jika iya\n",
        "    if isinstance(teks_kotor, list):\n",
        "        teks_kotor = \" \".join(teks_kotor)\n",
        "\n",
        "    teks_bersih = teks_kotor.replace(\"\\n\", \" \")\n",
        "\n",
        "    company.risiko_suku_bunga = teks_bersih"
      ]
    },
    {
      "cell_type": "markdown",
      "metadata": {
        "id": "7fF70q5aCXVr"
      },
      "source": [
        "Fungsi `find_nilai_tukar` dan `find_suku_bunga` bertanggung jawab untuk mengekstrak teks tertentu berdasarkan marker yang diberikan, yaitu terkait dengan risiko nilai tukar dan suku bunga. Keduanya menggunakan `find_paragraphs_by_marker_pairs` untuk mencari paragraf yang relevan dalam teks berdasarkan pasangan marker yang diberikan."
      ]
    },
    {
      "cell_type": "code",
      "execution_count": null,
      "metadata": {
        "id": "4CS-cXLZCabt"
      },
      "outputs": [],
      "source": [
        "def process_all_markers(text, kuartal, emiten):\n",
        "    company = Company()\n",
        "    company.perusahaan = emiten\n",
        "    company.kuartal = kuartal\n",
        "\n",
        "    markers = marker_config_map.get(emiten.upper())\n",
        "\n",
        "    for marker_name, marker_pairs in markers.items():\n",
        "        function_name = marker_to_function.get(marker_name)\n",
        "        if not function_name:\n",
        "            continue\n",
        "\n",
        "        func = globals().get(function_name)\n",
        "        if not func:\n",
        "            print(f\"[⚠️] Fungsi '{function_name}' tidak ditemukan.\")\n",
        "            continue\n",
        "\n",
        "        # ⬇️ Fungsi sekarang juga menerima objek company yang akan di-update\n",
        "        func(text, marker_pairs, company, kuartal)\n",
        "\n",
        "    return company\n",
        "\n",
        "# Mapping marker ke fungsi\n",
        "marker_to_function = {\n",
        "    \"marker1\": \"find_satuan\",\n",
        "    \"marker2\": \"find_nilai_tukar\",\n",
        "    \"marker3\": \"find_suku_bunga\"\n",
        "}\n",
        "\n",
        "def find_satuan(text, marker_pairs, company: Company, kuartal: str):\n",
        "    results = find_paragraphs_by_marker_pairs(text, marker_pairs,kuartal)\n",
        "    # satuan = results if results else \"-\"\n",
        "    company.satuan = results"
      ]
    },
    {
      "cell_type": "markdown",
      "metadata": {
        "id": "BjgYHrtdCcP6"
      },
      "source": [
        "Fungsi `process_all_markers` menerima teks laporan, kuartal, dan nama emiten, lalu mengiterasi markers yang relevan untuk emiten tersebut. Setiap marker dipetakan ke fungsi yang sesuai menggunakan `marker_to_function`, dan kemudian fungsi itu dipanggil untuk mengekstrak data yang relevan. Fungsi-fungsi yang dipanggil akan memperbarui objek `Company` dengan hasil ekstraksi."
      ]
    },
    {
      "cell_type": "code",
      "execution_count": null,
      "metadata": {
        "id": "um8Q9Qz3Ce4q"
      },
      "outputs": [],
      "source": [
        "# Fungsi pemrosesan individual\n",
        "def process_file(emiten, year, quarter):\n",
        "    kuartal_label = f\"{year}-{quarter}\"\n",
        "    pdf_file = f\"{base_path}/{emiten}/{emiten}-{year}-{quarter}.pdf\"\n",
        "    if not os.path.exists(pdf_file):\n",
        "        print(f\"[⚠️] File tidak ditemukan: {pdf_file}\")\n",
        "        return None\n",
        "\n",
        "    print(f\"\\n🔍 Memproses: {emiten} - {kuartal_label}\")\n",
        "    try:\n",
        "        start_time = time.time()\n",
        "        text = extract_text(pdf_file)\n",
        "        hasil = process_all_markers(text, kuartal_label, emiten)\n",
        "        elapsed = time.time() - start_time\n",
        "        print(f\"\\n✅ {kuartal_label}-{emiten} berhasil diproses dalam {elapsed:.2f} detik.\")\n",
        "        return f\"{emiten}-{kuartal_label}\", hasil.__dict__\n",
        "    except Exception as e:\n",
        "        print(f\"[⚠️] Error pada {emiten}-{kuartal_label}: {e}\")\n",
        "        return None"
      ]
    },
    {
      "cell_type": "markdown",
      "metadata": {
        "id": "TOjhDDHKCgXs"
      },
      "source": [
        "Fungsi `process_file` menerima informasi emiten, tahun, dan kuartal, serta nama file PDF yang relevan. Jika file ditemukan, teks diekstraksi menggunakan `extract_text`, kemudian diproses dengan memanggil process_all_markers untuk mengekstrak data berdasarkan marker. Durasi pemrosesan dihitung dan dicatat"
      ]
    },
    {
      "cell_type": "markdown",
      "metadata": {
        "id": "9YnSCGrXCmFY"
      },
      "source": [
        "Dilakukan pemeriksaan terlebih dahulu, apakah file JSON hasil proses sebelumnya `(output_json_file`) ada. Jika file ada, maka isinya akan dimuat ke dalam variabel all_results_dicts_dinamis. Jika file tidak ada, variabel ini diinisialisasi sebagai dictionary kosong. Ini memastikan bahwa data yang sudah diproses sebelumnya tidak diproses ulang."
      ]
    },
    {
      "cell_type": "code",
      "execution_count": null,
      "metadata": {
        "id": "gWrhqZHODHUy"
      },
      "outputs": [],
      "source": [
        "if os.path.exists(output_json_file):\n",
        "    with open(output_json_file, \"r\", encoding=\"utf-8\") as f:\n",
        "        all_results_dicts_dinamis = json.load(f)\n",
        "else:\n",
        "    all_results_dicts_dinamis = {}\n",
        "\n",
        "# Simpan waktu proses per kuartal\n",
        "benchmark_data = []\n",
        "\n",
        "# Cek apakah sudah diproses\n",
        "def is_processed(emiten, year, quarter):\n",
        "    key = f\"{emiten}-{year}-{quarter}\"\n",
        "    return key in all_results_dicts_dinamis\n"
      ]
    },
    {
      "cell_type": "markdown",
      "metadata": {
        "id": "Ebd9cbplDIWT"
      },
      "source": [
        "Fungsi `process_batch` memproses satu batch emiten dalam satu kuartal. Untuk setiap emiten dalam batch, fungsi ini memeriksa apakah laporan sudah diproses. Jika belum, fungsi ini memanggil `process_file` untuk memproses file laporan keuangan emiten tersebut. Setelah pemrosesan selesai, waktu yang digunakan untuk memproses laporan dihitung dan hasilnya disimpan dalam `batch_results`."
      ]
    },
    {
      "cell_type": "code",
      "execution_count": null,
      "metadata": {
        "id": "FzD51v6VC9BJ"
      },
      "outputs": [],
      "source": [
        "def process_batch(batch_emiten, year, quarter):\n",
        "    batch_results = []\n",
        "    for emiten in batch_emiten:\n",
        "        if not is_processed(emiten, year, quarter):\n",
        "            start_time = time.time()\n",
        "            result = process_file(emiten, year, quarter)\n",
        "            if result:\n",
        "                key, data = result\n",
        "                batch_results.append((key, data, time.time() - start_time))\n",
        "    return batch_results"
      ]
    },
    {
      "cell_type": "code",
      "execution_count": null,
      "metadata": {
        "id": "EdfVaAYcCqVz"
      },
      "outputs": [],
      "source": [
        "if os.path.exists(output_json_file):\n",
        "    with open(output_json_file, \"r\", encoding=\"utf-8\") as f:\n",
        "        all_results_dicts_dinamis = json.load(f)\n",
        "else:\n",
        "    all_results_dicts_dinamis = {}\n",
        "\n",
        "# Simpan waktu proses per kuartal\n",
        "benchmark_data = []\n",
        "\n",
        "# Cek apakah sudah diproses\n",
        "def is_processed(emiten, year, quarter):\n",
        "    key = f\"{emiten}-{year}-{quarter}\"\n",
        "    return key in all_results_dicts_dinamis"
      ]
    },
    {
      "cell_type": "markdown",
      "metadata": {
        "id": "H2Jg3pOUDMNG"
      },
      "source": [
        "Daftar emiten dibagi menjadi beberapa batch berdasarkan ukuran batch '(batch_size)'. Ini membantu untuk mengelompokkan emiten dalam jumlah yang lebih kecil sehingga proses dapat dijalankan secara paralel dan lebih efisien."
      ]
    },
    {
      "cell_type": "code",
      "execution_count": null,
      "metadata": {
        "id": "sNuHvWFwDP-G"
      },
      "outputs": [],
      "source": [
        "# Bagi jadi batch\n",
        "emiten_batches = [all_companies[i:i + batch_size] for i in range(0, len(all_companies), batch_size)]"
      ]
    },
    {
      "cell_type": "markdown",
      "metadata": {
        "id": "etnJyki4DRz_"
      },
      "source": [
        "Untuk setiap batch emiten, kode menggunakan `ThreadPoolExecutor` untuk menjalankan proses pemrosesan laporan secara paralel. Setiap kuartal dan tahun diproses secara bersamaan untuk setiap emiten dalam batch. `max_workers ` menentukan jumlah thread yang akan digunakan secara bersamaan untuk pemrosesan ini."
      ]
    },
    {
      "cell_type": "code",
      "execution_count": null,
      "metadata": {
        "colab": {
          "base_uri": "https://localhost:8080/"
        },
        "id": "0Nmdj7lkDWHO",
        "outputId": "2577b3a6-429c-4ebc-b5fb-1612ef57d6c9"
      },
      "outputs": [
        {
          "output_type": "stream",
          "name": "stdout",
          "text": [
            "\n",
            "🚀 Mulai Batch 1: ['CMNP', 'SMCB', 'UNVR', 'CMNT', 'KAEF', 'MDLN', 'LSIP', 'ARCI', 'MLPL', 'INDR']\n",
            "[⚠️] File tidak ditemukan: /content/drive/MyDrive/IDX_CALK_FX_SB_82/CMNP/CMNP-2023-Q1.pdf\n",
            "\n",
            "🔍 Memproses: CMNP - 2023-Q2\n",
            "[⚠️] File tidak ditemukan: /content/drive/MyDrive/IDX_CALK_FX_SB_82/SMCB/SMCB-2023-Q1.pdf\n",
            "\n",
            "🔍 Memproses: UNVR - 2023-Q1\n",
            "\n",
            "✅ 2023-Q1-UNVR berhasil diproses dalam 5.38 detik.\n",
            "\n",
            "🔍 Memproses: CMNT - 2023-Q1\n",
            "\n",
            "✅ 2023-Q2-CMNP berhasil diproses dalam 9.77 detik.\n",
            "\n",
            "🔍 Memproses: SMCB - 2023-Q2\n",
            "\n",
            "✅ 2023-Q1-CMNT berhasil diproses dalam 7.70 detik.\n",
            "\n",
            "✅ 2023-Q2-SMCB berhasil diproses dalam 4.06 detik.\n",
            "[⚠️] File tidak ditemukan: /content/drive/MyDrive/IDX_CALK_FX_SB_82/KAEF/KAEF-2023-Q1.pdf\n",
            "[⚠️] File tidak ditemukan: /content/drive/MyDrive/IDX_CALK_FX_SB_82/MDLN/MDLN-2023-Q1.pdf\n",
            "\n",
            "🔍 Memproses: UNVR - 2023-Q2\n",
            "[⚠️] File tidak ditemukan: /content/drive/MyDrive/IDX_CALK_FX_SB_82/LSIP/LSIP-2023-Q1.pdf\n",
            "[⚠️] File tidak ditemukan: /content/drive/MyDrive/IDX_CALK_FX_SB_82/ARCI/ARCI-2023-Q1.pdf\n",
            "[⚠️] File tidak ditemukan: /content/drive/MyDrive/IDX_CALK_FX_SB_82/MLPL/MLPL-2023-Q1.pdf\n",
            "[⚠️] File tidak ditemukan: /content/drive/MyDrive/IDX_CALK_FX_SB_82/INDR/INDR-2023-Q1.pdf\n",
            "\n",
            "🔍 Memproses: CMNP - 2023-Q3\n",
            "\n",
            "✅ 2023-Q2-UNVR berhasil diproses dalam 3.98 detik.\n",
            "\n",
            "🔍 Memproses: CMNT - 2023-Q2\n",
            "\n",
            "✅ 2023-Q3-CMNP berhasil diproses dalam 5.84 detik.\n",
            "\n",
            "🔍 Memproses: SMCB - 2023-Q3\n",
            "\n",
            "✅ 2023-Q2-CMNT berhasil diproses dalam 4.79 detik.\n",
            "\n",
            "🔍 Memproses: KAEF - 2023-Q2\n",
            "[❗] Start marker tidak ditemukan di 2023-Q3: Jika suku bunga telah\n",
            "\n",
            "✅ 2023-Q3-SMCB berhasil diproses dalam 3.87 detik.\n",
            "\n",
            "🔍 Memproses: UNVR - 2023-Q3\n",
            "\n",
            "✅ 2023-Q3-UNVR berhasil diproses dalam 2.92 detik.\n",
            "\n",
            "🔍 Memproses: CMNT - 2023-Q3\n",
            "\n",
            "✅ 2023-Q2-KAEF berhasil diproses dalam 8.79 detik.\n",
            "\n",
            "🔍 Memproses: MDLN - 2023-Q2\n",
            "\n",
            "✅ 2023-Q3-CMNT berhasil diproses dalam 6.60 detik.\n",
            "\n",
            "🔍 Memproses: KAEF - 2023-Q3\n",
            "\n",
            "✅ 2023-Q2-MDLN berhasil diproses dalam 7.32 detik.\n",
            "\n",
            "🔍 Memproses: LSIP - 2023-Q2\n",
            "\n",
            "✅ 2023-Q3-KAEF berhasil diproses dalam 7.67 detik.\n",
            "\n",
            "🔍 Memproses: MDLN - 2023-Q3\n",
            "\n",
            "✅ 2023-Q2-LSIP berhasil diproses dalam 4.98 detik.\n",
            "\n",
            "🔍 Memproses: ARCI - 2023-Q2\n",
            "\n",
            "✅ 2023-Q2-ARCI berhasil diproses dalam 3.32 detik.\n",
            "\n",
            "🔍 Memproses: MLPL - 2023-Q2\n",
            "\n",
            "✅ 2023-Q3-MDLN berhasil diproses dalam 6.59 detik.\n",
            "\n",
            "🔍 Memproses: LSIP - 2023-Q3\n",
            "\n",
            "✅ 2023-Q2-MLPL berhasil diproses dalam 4.30 detik.\n",
            "\n",
            "🔍 Memproses: INDR - 2023-Q2\n",
            "\n",
            "✅ 2023-Q3-LSIP berhasil diproses dalam 4.94 detik.\n",
            "\n",
            "🔍 Memproses: ARCI - 2023-Q3\n",
            "\n",
            "✅ 2023-Q2-INDR berhasil diproses dalam 4.19 detik.\n",
            "\n",
            "🔍 Memproses: CMNP - 2024-Q1\n",
            "\n",
            "✅ 2023-Q3-ARCI berhasil diproses dalam 4.92 detik.\n",
            "\n",
            "🔍 Memproses: MLPL - 2023-Q3\n",
            "\n",
            "✅ 2024-Q1-CMNP berhasil diproses dalam 4.77 detik.\n",
            "\n",
            "🔍 Memproses: SMCB - 2024-Q1\n",
            "\n",
            "✅ 2023-Q3-MLPL berhasil diproses dalam 5.42 detik.\n",
            "\n",
            "🔍 Memproses: INDR - 2023-Q3\n",
            "\n",
            "✅ 2024-Q1-SMCB berhasil diproses dalam 8.15 detik.\n",
            "[⚠️] File tidak ditemukan: /content/drive/MyDrive/IDX_CALK_FX_SB_82/UNVR/UNVR-2024-Q1.pdf\n",
            "[⚠️] File tidak ditemukan: /content/drive/MyDrive/IDX_CALK_FX_SB_82/CMNT/CMNT-2024-Q1.pdf\n",
            "\n",
            "✅ 2023-Q3-INDR berhasil diproses dalam 4.99 detik.\n",
            "\n",
            "🔍 Memproses: KAEF - 2024-Q1\n",
            "\n",
            "🔍 Memproses: CMNP - 2024-Q2\n",
            "\n",
            "✅ 2024-Q2-CMNP berhasil diproses dalam 6.56 detik.\n",
            "\n",
            "🔍 Memproses: SMCB - 2024-Q2\n",
            "\n",
            "✅ 2024-Q1-KAEF berhasil diproses dalam 8.99 detik.\n",
            "\n",
            "🔍 Memproses: MDLN - 2024-Q1\n",
            "\n",
            "✅ 2024-Q2-SMCB berhasil diproses dalam 5.51 detik.\n",
            "\n",
            "🔍 Memproses: UNVR - 2024-Q2\n",
            "\n",
            "✅ 2024-Q2-UNVR berhasil diproses dalam 4.31 detik.\n",
            "\n",
            "🔍 Memproses: CMNT - 2024-Q2\n",
            "\n",
            "✅ 2024-Q1-MDLN berhasil diproses dalam 7.46 detik.\n",
            "\n",
            "🔍 Memproses: LSIP - 2024-Q1\n",
            "\n",
            "✅ 2024-Q1-LSIP berhasil diproses dalam 6.11 detik.\n",
            "\n",
            "🔍 Memproses: ARCI - 2024-Q1\n",
            "\n",
            "✅ 2024-Q2-CMNT berhasil diproses dalam 8.24 detik.\n",
            "\n",
            "🔍 Memproses: KAEF - 2024-Q2\n",
            "\n",
            "✅ 2024-Q1-ARCI berhasil diproses dalam 4.52 detik.\n",
            "\n",
            "🔍 Memproses: MLPL - 2024-Q1\n",
            "\n",
            "✅ 2024-Q1-MLPL berhasil diproses dalam 2.18 detik.\n",
            "\n",
            "🔍 Memproses: INDR - 2024-Q1\n",
            "\n",
            "✅ 2024-Q1-INDR berhasil diproses dalam 3.28 detik.\n",
            "\n",
            "🔍 Memproses: CMNP - 2024-Q3\n",
            "\n",
            "✅ 2024-Q2-KAEF berhasil diproses dalam 7.97 detik.\n",
            "\n",
            "🔍 Memproses: MDLN - 2024-Q2\n",
            "\n",
            "✅ 2024-Q2-MDLN berhasil diproses dalam 7.43 detik.\n",
            "\n",
            "🔍 Memproses: LSIP - 2024-Q2\n",
            "\n",
            "✅ 2024-Q3-CMNP berhasil diproses dalam 8.71 detik.\n",
            "\n",
            "🔍 Memproses: SMCB - 2024-Q3\n",
            "\n",
            "✅ 2024-Q2-LSIP berhasil diproses dalam 4.00 detik.\n",
            "\n",
            "🔍 Memproses: ARCI - 2024-Q2\n",
            "\n",
            "✅ 2024-Q3-SMCB berhasil diproses dalam 4.48 detik.\n",
            "\n",
            "🔍 Memproses: UNVR - 2024-Q3\n",
            "\n",
            "✅ 2024-Q2-ARCI berhasil diproses dalam 4.64 detik.\n",
            "\n",
            "🔍 Memproses: MLPL - 2024-Q2\n",
            "\n",
            "✅ 2024-Q3-UNVR berhasil diproses dalam 4.61 detik.\n",
            "\n",
            "🔍 Memproses: CMNT - 2024-Q3\n",
            "\n",
            "✅ 2024-Q2-MLPL berhasil diproses dalam 4.33 detik.\n",
            "\n",
            "🔍 Memproses: INDR - 2024-Q2\n",
            "\n",
            "✅ 2024-Q2-INDR berhasil diproses dalam 4.88 detik.\n",
            "\n",
            "✅ 2024-Q3-CMNT berhasil diproses dalam 7.56 detik.\n",
            "\n",
            "🔍 Memproses: KAEF - 2024-Q3\n",
            "\n",
            "✅ 2024-Q3-KAEF berhasil diproses dalam 4.04 detik.\n",
            "\n",
            "🔍 Memproses: MDLN - 2024-Q3\n",
            "\n",
            "✅ 2024-Q3-MDLN berhasil diproses dalam 3.35 detik.\n",
            "\n",
            "🔍 Memproses: LSIP - 2024-Q3\n",
            "\n",
            "✅ 2024-Q3-LSIP berhasil diproses dalam 1.34 detik.\n",
            "\n",
            "🔍 Memproses: ARCI - 2024-Q3\n",
            "\n",
            "✅ 2024-Q3-ARCI berhasil diproses dalam 1.75 detik.\n",
            "\n",
            "🔍 Memproses: MLPL - 2024-Q3\n",
            "\n",
            "✅ 2024-Q3-MLPL berhasil diproses dalam 2.10 detik.\n",
            "\n",
            "🔍 Memproses: INDR - 2024-Q3\n",
            "\n",
            "✅ 2024-Q3-INDR berhasil diproses dalam 2.08 detik.\n",
            "\n",
            "🚀 Mulai Batch 2: ['PLIN', 'LPCK']\n",
            "[⚠️] File tidak ditemukan: /content/drive/MyDrive/IDX_CALK_FX_SB_82/PLIN/PLIN-2023-Q1.pdf\n",
            "\n",
            "🔍 Memproses: PLIN - 2023-Q2\n",
            "\n",
            "🔍 Memproses: LPCK - 2023-Q1\n",
            "\n",
            "✅ 2023-Q2-PLIN berhasil diproses dalam 3.66 detik.\n",
            "\n",
            "🔍 Memproses: LPCK - 2023-Q2\n",
            "\n",
            "✅ 2023-Q1-LPCK berhasil diproses dalam 5.35 detik.\n",
            "\n",
            "🔍 Memproses: PLIN - 2023-Q3\n",
            "\n",
            "✅ 2023-Q2-LPCK berhasil diproses dalam 3.75 detik.\n",
            "\n",
            "🔍 Memproses: PLIN - 2024-Q1\n",
            "\n",
            "✅ 2023-Q3-PLIN berhasil diproses dalam 3.48 detik.\n",
            "\n",
            "🔍 Memproses: LPCK - 2023-Q3\n",
            "\n",
            "✅ 2024-Q1-PLIN berhasil diproses dalam 4.02 detik.\n",
            "[⚠️] File tidak ditemukan: /content/drive/MyDrive/IDX_CALK_FX_SB_82/LPCK/LPCK-2024-Q1.pdf\n",
            "\n",
            "🔍 Memproses: PLIN - 2024-Q2\n",
            "\n",
            "✅ 2023-Q3-LPCK berhasil diproses dalam 4.11 detik.\n",
            "\n",
            "🔍 Memproses: PLIN - 2024-Q3\n",
            "\n",
            "✅ 2024-Q2-PLIN berhasil diproses dalam 3.39 detik.\n",
            "\n",
            "🔍 Memproses: LPCK - 2024-Q2\n",
            "\n",
            "✅ 2024-Q3-PLIN berhasil diproses dalam 3.76 detik.\n",
            "\n",
            "🔍 Memproses: LPCK - 2024-Q3\n",
            "\n",
            "✅ 2024-Q2-LPCK berhasil diproses dalam 5.89 detik.\n",
            "\n",
            "✅ 2024-Q3-LPCK berhasil diproses dalam 4.22 detik.\n"
          ]
        }
      ],
      "source": [
        "# Jalankan per batch per kuartal\n",
        "for batch_index, batch_emiten in enumerate(emiten_batches, start=1):\n",
        "    print(f\"\\n🚀 Mulai Batch {batch_index}: {batch_emiten}\")\n",
        "    with ThreadPoolExecutor(max_workers=max_workers) as executor:\n",
        "        futures = [\n",
        "            executor.submit(process_batch, batch_emiten, year, quarter)\n",
        "            for year in years\n",
        "            for quarter in quarters\n",
        "        ]\n",
        "\n",
        "        for future in as_completed(futures):\n",
        "            batch_results = future.result()\n",
        "            for key, data, durasi in batch_results:\n",
        "                all_results_dicts_dinamis[key] = data\n",
        "                emiten, year, quarter = key.split(\"-\")\n",
        "                benchmark_data.append({\n",
        "                    \"Emiten\": emiten,\n",
        "                    \"Kuartal\": f\"{year}-{quarter}\",\n",
        "                    \"Durasi (detik)\": round(durasi, 2)\n",
        "                })\n",
        "\n",
        "                # Simpan progres JSON setiap selesai 1 kuartal\n",
        "                with open(output_json_file, \"w\", encoding=\"utf-8\") as f:\n",
        "                    json.dump(all_results_dicts_dinamis, f, indent=2, ensure_ascii=False)\n"
      ]
    },
    {
      "cell_type": "markdown",
      "metadata": {
        "id": "HYrLKYcqDZXo"
      },
      "source": [
        "Setelah batch selesai diproses, hasil dari setiap `future` yang disubmit akan diambil. Untuk setiap hasil (`key`, `data`, dan `durasi)`, data tersebut disimpan ke dalam `all_results_dicts_dinamis`. Durasi pemrosesan per kuartal juga dicatat dalam benchmark_data.\n",
        "\n",
        "Setelah pemrosesan satu kuartal selesai, hasilnya disimpan dalam file JSON (`output_json_file`). Ini memastikan bahwa data yang sudah diproses tidak hilang jika program terhenti di tengah jalan."
      ]
    },
    {
      "cell_type": "markdown",
      "metadata": {
        "id": "H3gfBsQAAT8o"
      },
      "source": [
        "#### Output & Evaluasi Kinerja"
      ]
    },
    {
      "cell_type": "markdown",
      "metadata": {
        "id": "llxWW29iDhP9"
      },
      "source": [
        "Data yang terkumpul dalam `all_results_dicts_dinamis` diubah menjadi sebuah DataFrame menggunakan pandas. Data ini kemudian disortir berdasarkan kolom Emiten dan Kuartal. Begitu juga dengan data benchmark (`benchmark_data`), yang Setelah data disortir, hasilnya disimpan dalam file Excel untuk data utama (`output_file)` dan file benchmark (`benchmark_file`) juga diubah menjadi DataFrame dan disortir berdasarkan Emiten dan Kuartal."
      ]
    },
    {
      "cell_type": "code",
      "execution_count": null,
      "metadata": {
        "id": "FzFlBaLCDivM",
        "colab": {
          "base_uri": "https://localhost:8080/"
        },
        "outputId": "53eb09b5-24d4-4db1-f5ef-6e7f5e37fb0d"
      },
      "outputs": [
        {
          "output_type": "stream",
          "name": "stdout",
          "text": [
            "\n",
            "✅ File hasil utama: hasil_ekstraksi.xlsx\n"
          ]
        }
      ],
      "source": [
        "import re\n",
        "\n",
        "df = pd.DataFrame(list(all_results_dicts_dinamis.values()))\n",
        "df.to_excel(output_file, index=False)\n",
        "print(f\"\\n✅ File hasil utama: {output_file}\")"
      ]
    },
    {
      "cell_type": "markdown",
      "metadata": {
        "id": "Uk9PuLmfDkiZ"
      },
      "source": [
        "Waktu total yang dibutuhkan untuk menjalankan program dihitung dan dicetak setelah semua batch selesai diproses. Jika kode dijalankan di Google Colab, file hasil (`output_file` dan `benchmark_file`) akan diunduh secara otomatis ke mesin lokal pengguna."
      ]
    },
    {
      "cell_type": "code",
      "execution_count": null,
      "metadata": {
        "id": "ksbga6n2DmIw",
        "colab": {
          "base_uri": "https://localhost:8080/",
          "height": 104
        },
        "outputId": "92ff9094-93ad-49ac-96f0-56c377aaab74"
      },
      "outputs": [
        {
          "output_type": "stream",
          "name": "stdout",
          "text": [
            "\n",
            "✅ File hasil utama: hasil_ekstraksi.xlsx\n",
            "⏱️ File benchmark waktu dibuat: benchmark_waktu.xlsx\n",
            "\n",
            "🕒 Total waktu runtime program: 166.35 detik\n"
          ]
        },
        {
          "output_type": "display_data",
          "data": {
            "text/plain": [
              "<IPython.core.display.Javascript object>"
            ],
            "application/javascript": [
              "\n",
              "    async function download(id, filename, size) {\n",
              "      if (!google.colab.kernel.accessAllowed) {\n",
              "        return;\n",
              "      }\n",
              "      const div = document.createElement('div');\n",
              "      const label = document.createElement('label');\n",
              "      label.textContent = `Downloading \"${filename}\": `;\n",
              "      div.appendChild(label);\n",
              "      const progress = document.createElement('progress');\n",
              "      progress.max = size;\n",
              "      div.appendChild(progress);\n",
              "      document.body.appendChild(div);\n",
              "\n",
              "      const buffers = [];\n",
              "      let downloaded = 0;\n",
              "\n",
              "      const channel = await google.colab.kernel.comms.open(id);\n",
              "      // Send a message to notify the kernel that we're ready.\n",
              "      channel.send({})\n",
              "\n",
              "      for await (const message of channel.messages) {\n",
              "        // Send a message to notify the kernel that we're ready.\n",
              "        channel.send({})\n",
              "        if (message.buffers) {\n",
              "          for (const buffer of message.buffers) {\n",
              "            buffers.push(buffer);\n",
              "            downloaded += buffer.byteLength;\n",
              "            progress.value = downloaded;\n",
              "          }\n",
              "        }\n",
              "      }\n",
              "      const blob = new Blob(buffers, {type: 'application/binary'});\n",
              "      const a = document.createElement('a');\n",
              "      a.href = window.URL.createObjectURL(blob);\n",
              "      a.download = filename;\n",
              "      div.appendChild(a);\n",
              "      a.click();\n",
              "      div.remove();\n",
              "    }\n",
              "  "
            ]
          },
          "metadata": {}
        },
        {
          "output_type": "display_data",
          "data": {
            "text/plain": [
              "<IPython.core.display.Javascript object>"
            ],
            "application/javascript": [
              "download(\"download_1df7bcc1-a52e-4b8f-9acb-ac3f42dd9834\", \"hasil_ekstraksi.xlsx\", 54544)"
            ]
          },
          "metadata": {}
        },
        {
          "output_type": "display_data",
          "data": {
            "text/plain": [
              "<IPython.core.display.Javascript object>"
            ],
            "application/javascript": [
              "\n",
              "    async function download(id, filename, size) {\n",
              "      if (!google.colab.kernel.accessAllowed) {\n",
              "        return;\n",
              "      }\n",
              "      const div = document.createElement('div');\n",
              "      const label = document.createElement('label');\n",
              "      label.textContent = `Downloading \"${filename}\": `;\n",
              "      div.appendChild(label);\n",
              "      const progress = document.createElement('progress');\n",
              "      progress.max = size;\n",
              "      div.appendChild(progress);\n",
              "      document.body.appendChild(div);\n",
              "\n",
              "      const buffers = [];\n",
              "      let downloaded = 0;\n",
              "\n",
              "      const channel = await google.colab.kernel.comms.open(id);\n",
              "      // Send a message to notify the kernel that we're ready.\n",
              "      channel.send({})\n",
              "\n",
              "      for await (const message of channel.messages) {\n",
              "        // Send a message to notify the kernel that we're ready.\n",
              "        channel.send({})\n",
              "        if (message.buffers) {\n",
              "          for (const buffer of message.buffers) {\n",
              "            buffers.push(buffer);\n",
              "            downloaded += buffer.byteLength;\n",
              "            progress.value = downloaded;\n",
              "          }\n",
              "        }\n",
              "      }\n",
              "      const blob = new Blob(buffers, {type: 'application/binary'});\n",
              "      const a = document.createElement('a');\n",
              "      a.href = window.URL.createObjectURL(blob);\n",
              "      a.download = filename;\n",
              "      div.appendChild(a);\n",
              "      a.click();\n",
              "      div.remove();\n",
              "    }\n",
              "  "
            ]
          },
          "metadata": {}
        },
        {
          "output_type": "display_data",
          "data": {
            "text/plain": [
              "<IPython.core.display.Javascript object>"
            ],
            "application/javascript": [
              "download(\"download_dcd9f4a9-24f0-442b-aa77-294cb179d078\", \"benchmark_waktu.xlsx\", 6020)"
            ]
          },
          "metadata": {}
        }
      ],
      "source": [
        "# Urutkan benchmark berdasarkan 'Emiten' dan 'Kuartal'\n",
        "benchmark_df = pd.DataFrame(benchmark_data)\n",
        "# benchmark_df.sort_values(by=[\"Emiten\", \"Kuartal\"], inplace=True)\n",
        "\n",
        "print(f\"\\n✅ File hasil utama: {output_file}\")\n",
        "benchmark_df.to_excel(benchmark_file, index=False)\n",
        "\n",
        "\n",
        "print(f\"⏱️ File benchmark waktu dibuat: {benchmark_file}\")\n",
        "\n",
        "# Waktu total program\n",
        "end_program_time = time.time()\n",
        "print(f\"\\n🕒 Total waktu runtime program: {round(end_program_time - start_program_time, 2)} detik\")\n",
        "\n",
        "# Auto-download jika di Colab\n",
        "try:\n",
        "    from google.colab import files\n",
        "    files.download(output_file)\n",
        "    files.download(benchmark_file)\n",
        "except:\n",
        "    pass"
      ]
    },
    {
      "cell_type": "markdown",
      "metadata": {
        "id": "vZKIkU30yPea"
      },
      "source": [
        "# Process Documentation"
      ]
    },
    {
      "cell_type": "markdown",
      "metadata": {
        "id": "wXAqnkYXFND1"
      },
      "source": [
        "## 1. CAPTURE – Menentukan Kebutuhan dan Target Informasi\n"
      ]
    },
    {
      "cell_type": "markdown",
      "metadata": {
        "id": "CDwqRmcuGqjA"
      },
      "source": [
        "**Tujuan:**  \n",
        "Memastikan informasi yang dibutuhkan untuk analisis dan pemantauan sektor korporasi.\n",
        "\n",
        "**Proses:**\n",
        "- Identifikasi kebutuhan informasi kebijakan yang ingin diekstrak dari laporan keuangan, misalnya: risiko nilai tukar, suku bunga.\n",
        "- Pengumpulan dokumen laporan keuangan dari Web IDX Indonesia.\n",
        "- Penetapan marker dan keyword pencarian, seperti: `nilai tukar`, `mata uang asing`, dan sebagainya.\n",
        "- Pembacaan PDF halaman demi halaman.\n",
        "- Pencocokan marker berdasarkan konfigurasi per perusahaan untuk menemukan paragraf relevan.\n",
        "- Ekstraksi paragraf yang mengandung informasi sesuai marker."
      ]
    },
    {
      "cell_type": "markdown",
      "metadata": {
        "id": "xR9HVlGXGxuy"
      },
      "source": [
        "## 2. COMPILE – Ekstraksi dan Strukturisasi Data Otomatis"
      ]
    },
    {
      "cell_type": "markdown",
      "metadata": {
        "id": "i5B_B22OGzK4"
      },
      "source": [
        "**Tujuan:**  \n",
        "Mengubah dokumen unstructured menjadi data terstruktur dan siap dianalisis.\n",
        "\n",
        "**Proses:**\n",
        "- Praproses teks: normalisasi whitespace, penghapusan header/footer, dan filter karakter asing.\n",
        "- Identifikasi entitas penting seperti nama mata uang, nilai eksposur, dan instrumen lindung nilai.\n",
        "- Strukturisasi hasil ekstraksi ke dalam format dictionary atau JSON."
      ]
    },
    {
      "cell_type": "markdown",
      "metadata": {
        "id": "ftvDL7_EG1Rh"
      },
      "source": [
        "## 3. ANALYSIS – Pemanfaatan Data untuk Insight dan Kebijakan"
      ]
    },
    {
      "cell_type": "markdown",
      "metadata": {
        "id": "vjJ_SMshG2eO"
      },
      "source": [
        "**Tujuan:**  \n",
        "Menyajikan insight relevan, cepat, dan konsisten untuk mendukung keputusan makroprudensial.\n",
        "\n",
        "**Proses:**\n",
        "- Agregasi data antar perusahaan dan kuartal untuk mengidentifikasi tren sektoral.\n",
        "- Pemetaan eksposur nilai tukar berdasarkan sektor, industri, atau perusahaan besar.\n",
        "- Visualisasi data dan pengembangan dashboard monitoring.\n",
        "- Penyusunan narasi untuk CHAF atau Kajian Stabilitas Keuangan (KSK).\n",
        "- Penyampaian rekomendasi kebijakan berbasis evidence kepada stakeholder internal atau eksternal."
      ]
    }
  ],
  "metadata": {
    "colab": {
      "provenance": [],
      "authorship_tag": "ABX9TyNNqrlvALymYcg9nVjGqOzd",
      "include_colab_link": true
    },
    "kernelspec": {
      "display_name": "Python 3",
      "name": "python3"
    },
    "language_info": {
      "name": "python"
    }
  },
  "nbformat": 4,
  "nbformat_minor": 0
}